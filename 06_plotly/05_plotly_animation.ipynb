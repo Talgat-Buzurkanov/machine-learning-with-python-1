{
 "cells": [
  {
   "cell_type": "markdown",
   "metadata": {},
   "source": [
    "# 1. Import Data"
   ]
  },
  {
   "cell_type": "code",
   "execution_count": 3,
   "metadata": {},
   "outputs": [
    {
     "data": {
      "text/html": [
       "<iframe id=\"igraph\" scrolling=\"no\" style=\"border:none;\" seamless=\"seamless\" src=\"https://plot.ly/~erkansirin78/26.embed\" height=\"380px\" width=\"100%\"></iframe>"
      ],
      "text/plain": [
       "<chart_studio.tools.PlotlyDisplay object>"
      ]
     },
     "execution_count": 3,
     "metadata": {},
     "output_type": "execute_result"
    }
   ],
   "source": [
    "import plotly.plotly as py\n",
    "from plotly.grid_objs import Grid, Column\n",
    "from plotly import figure_factory as FF \n",
    "py.sign_in(username=\"erkansirin78\",api_key=\"hSLd2eN5msnMfeOWlHUS\")\n",
    "\n",
    "import pandas as pd\n",
    "import time\n",
    "\n",
    "url = 'https://raw.githubusercontent.com/plotly/datasets/master/gapminderDataFiveYear.csv'\n",
    "dataset = pd.read_csv(url)\n",
    "\n",
    "table = FF.create_table(dataset.head(10))\n",
    "py.iplot(table, filename='animations-gapminder-data-preview')"
   ]
  },
  {
   "cell_type": "markdown",
   "metadata": {},
   "source": [
    "# 2. Make the Grid"
   ]
  },
  {
   "cell_type": "code",
   "execution_count": 4,
   "metadata": {},
   "outputs": [
    {
     "data": {
      "text/plain": [
       "'https://plot.ly/~erkansirin78/28/'"
      ]
     },
     "execution_count": 4,
     "metadata": {},
     "output_type": "execute_result"
    }
   ],
   "source": [
    "years_from_col = set(dataset['year'])\n",
    "years_ints = sorted(list(years_from_col))\n",
    "years = [str(year) for year in years_ints]\n",
    "years.remove('1957')\n",
    "\n",
    "# make list of continents\n",
    "continents = []\n",
    "for continent in dataset['continent']:\n",
    "    if continent not in continents: \n",
    "        continents.append(continent)\n",
    "\n",
    "columns = []\n",
    "# make grid\n",
    "for year in years:\n",
    "    for continent in continents:\n",
    "        dataset_by_year = dataset[dataset['year'] == int(year)]\n",
    "        dataset_by_year_and_cont = dataset_by_year[dataset_by_year['continent'] == continent]\n",
    "        for col_name in dataset_by_year_and_cont:\n",
    "            # each column name is unique\n",
    "            column_name = '{year}_{continent}_{header}_gapminder_grid'.format(\n",
    "                year=year, continent=continent, header=col_name\n",
    "            )\n",
    "            a_column = Column(list(dataset_by_year_and_cont[col_name]), column_name)\n",
    "            columns.append(a_column)\n",
    "\n",
    "# upload grid\n",
    "grid = Grid(columns)\n",
    "url = py.grid_ops.upload(grid, 'gapminder_grid'+str(time.time()), auto_open=False)\n",
    "url"
   ]
  },
  {
   "cell_type": "markdown",
   "metadata": {},
   "source": [
    "# 3. Make the Figure"
   ]
  },
  {
   "cell_type": "code",
   "execution_count": 5,
   "metadata": {},
   "outputs": [],
   "source": [
    "figure = {\n",
    "    'data': [],\n",
    "    'layout': {},\n",
    "    'frames': [],\n",
    "    'config': {'scrollzoom': True}\n",
    "}\n",
    "\n",
    "# fill in most of layout\n",
    "figure['layout']['xaxis'] = {'range': [30, 85], 'title': 'Life Expectancy', 'gridcolor': '#FFFFFF'}\n",
    "figure['layout']['yaxis'] = {'title': 'GDP per Capita', 'type': 'log', 'gridcolor': '#FFFFFF'}\n",
    "figure['layout']['hovermode'] = 'closest'\n",
    "figure['layout']['plot_bgcolor'] = 'rgb(223, 232, 243)'"
   ]
  },
  {
   "cell_type": "markdown",
   "metadata": {},
   "source": [
    "# 4. Add Slider"
   ]
  },
  {
   "cell_type": "code",
   "execution_count": 8,
   "metadata": {},
   "outputs": [
    {
     "ename": "SyntaxError",
     "evalue": "EOL while scanning string literal (<ipython-input-8-3d92a15cd642>, line 1)",
     "output_type": "error",
     "traceback": [
      "\u001b[1;36m  File \u001b[1;32m\"<ipython-input-8-3d92a15cd642>\"\u001b[1;36m, line \u001b[1;32m1\u001b[0m\n\u001b[1;33m    figure['layout']['sliders] = {\u001b[0m\n\u001b[1;37m                                  ^\u001b[0m\n\u001b[1;31mSyntaxError\u001b[0m\u001b[1;31m:\u001b[0m EOL while scanning string literal\n"
     ]
    }
   ],
   "source": [
    "figure['layout']['sliders] = {\n",
    "    'active': 0,\n",
    "    'yanchor': 'top',\n",
    "    'xanchor': 'left',\n",
    "    'currentvalue': {\n",
    "        'font': {'size': 20},\n",
    "        'prefix': 'text-before-value-on-display',\n",
    "        'visible': True,\n",
    "        'xanchor': 'right'\n",
    "    },\n",
    "    'transition': {'duration': 300, 'easing': 'cubic-in-out'},\n",
    "    'pad': {'b': 10, 't': 50},\n",
    "    'len': 0.9,\n",
    "    'x': 0.1,\n",
    "    'y': 0,\n",
    "    {\n",
    "    'method': 'animate',\n",
    "    'label': 'label-for-frame',\n",
    "    'value': 'value-for-frame(defaults to label)',\n",
    "    'args': [{'frame': {'duration': 300, 'redraw': False},\n",
    "         'mode': 'immediate'}\n",
    "    ],\n",
    "}\n",
    "                 }"
   ]
  },
  {
   "cell_type": "code",
   "execution_count": null,
   "metadata": {},
   "outputs": [],
   "source": []
  }
 ],
 "metadata": {
  "kernelspec": {
   "display_name": "Python 3",
   "language": "python",
   "name": "python3"
  },
  "language_info": {
   "codemirror_mode": {
    "name": "ipython",
    "version": 3
   },
   "file_extension": ".py",
   "mimetype": "text/x-python",
   "name": "python",
   "nbconvert_exporter": "python",
   "pygments_lexer": "ipython3",
   "version": "3.6.5"
  }
 },
 "nbformat": 4,
 "nbformat_minor": 2
}
