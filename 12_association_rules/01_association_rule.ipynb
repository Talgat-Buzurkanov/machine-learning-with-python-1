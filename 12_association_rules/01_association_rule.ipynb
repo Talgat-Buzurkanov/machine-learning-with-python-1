{
 "cells": [
  {
   "cell_type": "code",
   "execution_count": 1,
   "metadata": {},
   "outputs": [],
   "source": [
    "# Birlikte satılabilecek ürünlerin tespit edilmesiyle sık satın alınan ürünlerin \n",
    "# aynı rafta veya ikili kampanya paketleri vb. yöntemlerle satılması\n",
    "# Bunu alanlar şunları da aldı"
   ]
  },
  {
   "cell_type": "code",
   "execution_count": 2,
   "metadata": {},
   "outputs": [],
   "source": [
    "import pandas as pd"
   ]
  },
  {
   "cell_type": "code",
   "execution_count": 3,
   "metadata": {},
   "outputs": [],
   "source": [
    "df = pd.read_csv(\"D:/Datasets/Birliktelik_Kurali_Market_Satis_Kayitlari.csv\", header= None)"
   ]
  },
  {
   "cell_type": "code",
   "execution_count": 4,
   "metadata": {},
   "outputs": [
    {
     "data": {
      "text/plain": [
       "Int64Index([0, 1, 2, 3, 4, 5, 6, 7, 8, 9, 10, 11, 12, 13, 14, 15, 16, 17, 18,\n",
       "            19],\n",
       "           dtype='int64')"
      ]
     },
     "execution_count": 4,
     "metadata": {},
     "output_type": "execute_result"
    }
   ],
   "source": [
    "df.columns"
   ]
  },
  {
   "cell_type": "code",
   "execution_count": 5,
   "metadata": {},
   "outputs": [
    {
     "data": {
      "text/html": [
       "<div>\n",
       "<style scoped>\n",
       "    .dataframe tbody tr th:only-of-type {\n",
       "        vertical-align: middle;\n",
       "    }\n",
       "\n",
       "    .dataframe tbody tr th {\n",
       "        vertical-align: top;\n",
       "    }\n",
       "\n",
       "    .dataframe thead th {\n",
       "        text-align: right;\n",
       "    }\n",
       "</style>\n",
       "<table border=\"1\" class=\"dataframe\">\n",
       "  <thead>\n",
       "    <tr style=\"text-align: right;\">\n",
       "      <th></th>\n",
       "      <th>0</th>\n",
       "      <th>1</th>\n",
       "      <th>2</th>\n",
       "      <th>3</th>\n",
       "      <th>4</th>\n",
       "      <th>5</th>\n",
       "      <th>6</th>\n",
       "      <th>7</th>\n",
       "      <th>8</th>\n",
       "      <th>9</th>\n",
       "      <th>10</th>\n",
       "      <th>11</th>\n",
       "      <th>12</th>\n",
       "      <th>13</th>\n",
       "      <th>14</th>\n",
       "      <th>15</th>\n",
       "      <th>16</th>\n",
       "      <th>17</th>\n",
       "      <th>18</th>\n",
       "      <th>19</th>\n",
       "    </tr>\n",
       "  </thead>\n",
       "  <tbody>\n",
       "    <tr>\n",
       "      <th>0</th>\n",
       "      <td>karides</td>\n",
       "      <td>badem</td>\n",
       "      <td>avakado</td>\n",
       "      <td>karışık sebze</td>\n",
       "      <td>beyaz üzüm</td>\n",
       "      <td>tam buğday unu</td>\n",
       "      <td>yer elması</td>\n",
       "      <td>süzme peynir</td>\n",
       "      <td>enerji içeceği</td>\n",
       "      <td>domates suyu</td>\n",
       "      <td>yarım yağlı yoğurt</td>\n",
       "      <td>yeşil çay</td>\n",
       "      <td>bal</td>\n",
       "      <td>salata</td>\n",
       "      <td>maden suyu</td>\n",
       "      <td>somon balığı</td>\n",
       "      <td>antioksidan</td>\n",
       "      <td>yeşil buzlu içecek</td>\n",
       "      <td>ıspanak</td>\n",
       "      <td>zeytin yağı</td>\n",
       "    </tr>\n",
       "    <tr>\n",
       "      <th>1</th>\n",
       "      <td>hamburger ekmeği</td>\n",
       "      <td>köfte</td>\n",
       "      <td>yumurta</td>\n",
       "      <td>NaN</td>\n",
       "      <td>NaN</td>\n",
       "      <td>NaN</td>\n",
       "      <td>NaN</td>\n",
       "      <td>NaN</td>\n",
       "      <td>NaN</td>\n",
       "      <td>NaN</td>\n",
       "      <td>NaN</td>\n",
       "      <td>NaN</td>\n",
       "      <td>NaN</td>\n",
       "      <td>NaN</td>\n",
       "      <td>NaN</td>\n",
       "      <td>NaN</td>\n",
       "      <td>NaN</td>\n",
       "      <td>NaN</td>\n",
       "      <td>NaN</td>\n",
       "      <td>NaN</td>\n",
       "    </tr>\n",
       "    <tr>\n",
       "      <th>2</th>\n",
       "      <td>hint turşusu</td>\n",
       "      <td>NaN</td>\n",
       "      <td>NaN</td>\n",
       "      <td>NaN</td>\n",
       "      <td>NaN</td>\n",
       "      <td>NaN</td>\n",
       "      <td>NaN</td>\n",
       "      <td>NaN</td>\n",
       "      <td>NaN</td>\n",
       "      <td>NaN</td>\n",
       "      <td>NaN</td>\n",
       "      <td>NaN</td>\n",
       "      <td>NaN</td>\n",
       "      <td>NaN</td>\n",
       "      <td>NaN</td>\n",
       "      <td>NaN</td>\n",
       "      <td>NaN</td>\n",
       "      <td>NaN</td>\n",
       "      <td>NaN</td>\n",
       "      <td>NaN</td>\n",
       "    </tr>\n",
       "    <tr>\n",
       "      <th>3</th>\n",
       "      <td>hindi</td>\n",
       "      <td>avakado</td>\n",
       "      <td>NaN</td>\n",
       "      <td>NaN</td>\n",
       "      <td>NaN</td>\n",
       "      <td>NaN</td>\n",
       "      <td>NaN</td>\n",
       "      <td>NaN</td>\n",
       "      <td>NaN</td>\n",
       "      <td>NaN</td>\n",
       "      <td>NaN</td>\n",
       "      <td>NaN</td>\n",
       "      <td>NaN</td>\n",
       "      <td>NaN</td>\n",
       "      <td>NaN</td>\n",
       "      <td>NaN</td>\n",
       "      <td>NaN</td>\n",
       "      <td>NaN</td>\n",
       "      <td>NaN</td>\n",
       "      <td>NaN</td>\n",
       "    </tr>\n",
       "    <tr>\n",
       "      <th>4</th>\n",
       "      <td>maden suyu</td>\n",
       "      <td>süt</td>\n",
       "      <td>enerji çikolatası</td>\n",
       "      <td>beyaz prinç</td>\n",
       "      <td>yeşil çay</td>\n",
       "      <td>NaN</td>\n",
       "      <td>NaN</td>\n",
       "      <td>NaN</td>\n",
       "      <td>NaN</td>\n",
       "      <td>NaN</td>\n",
       "      <td>NaN</td>\n",
       "      <td>NaN</td>\n",
       "      <td>NaN</td>\n",
       "      <td>NaN</td>\n",
       "      <td>NaN</td>\n",
       "      <td>NaN</td>\n",
       "      <td>NaN</td>\n",
       "      <td>NaN</td>\n",
       "      <td>NaN</td>\n",
       "      <td>NaN</td>\n",
       "    </tr>\n",
       "  </tbody>\n",
       "</table>\n",
       "</div>"
      ],
      "text/plain": [
       "                 0        1                  2              3           4   \\\n",
       "0           karides    badem            avakado  karışık sebze  beyaz üzüm   \n",
       "1  hamburger ekmeği    köfte            yumurta            NaN         NaN   \n",
       "2      hint turşusu      NaN                NaN            NaN         NaN   \n",
       "3             hindi  avakado                NaN            NaN         NaN   \n",
       "4        maden suyu      süt  enerji çikolatası    beyaz prinç   yeşil çay   \n",
       "\n",
       "               5           6             7               8             9   \\\n",
       "0  tam buğday unu  yer elması  süzme peynir  enerji içeceği  domates suyu   \n",
       "1             NaN         NaN           NaN             NaN           NaN   \n",
       "2             NaN         NaN           NaN             NaN           NaN   \n",
       "3             NaN         NaN           NaN             NaN           NaN   \n",
       "4             NaN         NaN           NaN             NaN           NaN   \n",
       "\n",
       "                   10         11   12      13          14            15  \\\n",
       "0  yarım yağlı yoğurt  yeşil çay  bal  salata  maden suyu  somon balığı   \n",
       "1                 NaN        NaN  NaN     NaN         NaN           NaN   \n",
       "2                 NaN        NaN  NaN     NaN         NaN           NaN   \n",
       "3                 NaN        NaN  NaN     NaN         NaN           NaN   \n",
       "4                 NaN        NaN  NaN     NaN         NaN           NaN   \n",
       "\n",
       "            16                  17       18           19  \n",
       "0  antioksidan  yeşil buzlu içecek  ıspanak  zeytin yağı  \n",
       "1          NaN                 NaN      NaN          NaN  \n",
       "2          NaN                 NaN      NaN          NaN  \n",
       "3          NaN                 NaN      NaN          NaN  \n",
       "4          NaN                 NaN      NaN          NaN  "
      ]
     },
     "execution_count": 5,
     "metadata": {},
     "output_type": "execute_result"
    }
   ],
   "source": [
    "df.head()"
   ]
  },
  {
   "cell_type": "code",
   "execution_count": 6,
   "metadata": {},
   "outputs": [
    {
     "name": "stdout",
     "output_type": "stream",
     "text": [
      "<class 'pandas.core.frame.DataFrame'>\n",
      "RangeIndex: 7501 entries, 0 to 7500\n",
      "Data columns (total 20 columns):\n",
      "0     7501 non-null object\n",
      "1     5747 non-null object\n",
      "2     4389 non-null object\n",
      "3     3345 non-null object\n",
      "4     2529 non-null object\n",
      "5     1864 non-null object\n",
      "6     1369 non-null object\n",
      "7     981 non-null object\n",
      "8     654 non-null object\n",
      "9     395 non-null object\n",
      "10    256 non-null object\n",
      "11    154 non-null object\n",
      "12    87 non-null object\n",
      "13    47 non-null object\n",
      "14    25 non-null object\n",
      "15    8 non-null object\n",
      "16    4 non-null object\n",
      "17    4 non-null object\n",
      "18    3 non-null object\n",
      "19    1 non-null object\n",
      "dtypes: object(20)\n",
      "memory usage: 1.1+ MB\n"
     ]
    }
   ],
   "source": [
    "df.info()"
   ]
  },
  {
   "cell_type": "code",
   "execution_count": 7,
   "metadata": {},
   "outputs": [],
   "source": [
    "# Her işlemde en az 1 kalem ürün satılmış\n",
    "# Toplam işlem adedi 7501"
   ]
  },
  {
   "cell_type": "code",
   "execution_count": 8,
   "metadata": {},
   "outputs": [
    {
     "data": {
      "text/plain": [
       "7501"
      ]
     },
     "execution_count": 8,
     "metadata": {},
     "output_type": "execute_result"
    }
   ],
   "source": [
    "len(df)"
   ]
  },
  {
   "cell_type": "code",
   "execution_count": 9,
   "metadata": {},
   "outputs": [],
   "source": [
    "# Tüm işlemleri liste halinde bir listede topla.\n",
    "# Her eleman bir liste olsun 7500 tane eleman olsun"
   ]
  },
  {
   "cell_type": "code",
   "execution_count": 10,
   "metadata": {},
   "outputs": [],
   "source": [
    "transactions = []"
   ]
  },
  {
   "cell_type": "code",
   "execution_count": 11,
   "metadata": {},
   "outputs": [],
   "source": [
    "for i in range(0, 7501):\n",
    "    transactions.append([ str(df.values[i,j]) for j in range(0, 20) ])"
   ]
  },
  {
   "cell_type": "code",
   "execution_count": 12,
   "metadata": {},
   "outputs": [
    {
     "data": {
      "text/plain": [
       "list"
      ]
     },
     "execution_count": 12,
     "metadata": {},
     "output_type": "execute_result"
    }
   ],
   "source": [
    "type(transactions)"
   ]
  },
  {
   "cell_type": "code",
   "execution_count": 13,
   "metadata": {},
   "outputs": [
    {
     "data": {
      "text/plain": [
       "['karides',\n",
       " 'badem',\n",
       " 'avakado',\n",
       " 'karışık sebze',\n",
       " 'beyaz üzüm',\n",
       " 'tam buğday unu',\n",
       " 'yer elması',\n",
       " 'süzme peynir',\n",
       " 'enerji içeceği',\n",
       " 'domates suyu',\n",
       " 'yarım yağlı yoğurt',\n",
       " 'yeşil çay',\n",
       " 'bal',\n",
       " 'salata',\n",
       " 'maden suyu',\n",
       " 'somon balığı',\n",
       " 'antioksidan',\n",
       " 'yeşil buzlu içecek',\n",
       " 'ıspanak',\n",
       " 'zeytin yağı']"
      ]
     },
     "execution_count": 13,
     "metadata": {},
     "output_type": "execute_result"
    }
   ],
   "source": [
    "transactions[0]"
   ]
  },
  {
   "cell_type": "code",
   "execution_count": 14,
   "metadata": {},
   "outputs": [],
   "source": [
    "# Çalışma diznine taşınan \n",
    "from apyori import apriori"
   ]
  },
  {
   "cell_type": "code",
   "execution_count": 15,
   "metadata": {},
   "outputs": [],
   "source": [
    "rules = apriori(transactions=transactions, min_support=0.003, min_confidence=0.2, \n",
    "                min_lift=3, min_length = 2)"
   ]
  },
  {
   "cell_type": "code",
   "execution_count": 16,
   "metadata": {},
   "outputs": [],
   "source": [
    "results = list(rules)"
   ]
  },
  {
   "cell_type": "code",
   "execution_count": 17,
   "metadata": {},
   "outputs": [
    {
     "name": "stdout",
     "output_type": "stream",
     "text": [
      "frozenset({'bal', 'beyaz peynir'})\n",
      "frozenset({'mantar kremalı sos', 'dana eskalop'})\n",
      "frozenset({'domates sosu', 'dana kıyma'})\n",
      "frozenset({'karabiber', 'dana kıyma'})\n",
      "frozenset({'tavuk', 'hafif krema'})\n",
      "frozenset({'zeytin yağı', 'hafif krema'})\n",
      "frozenset({'zeytin yağı', 'makarna'})\n",
      "frozenset({'avakado', 'spagetti', 'süt'})\n",
      "frozenset({'nan', 'bal', 'beyaz peynir'})\n",
      "frozenset({'beyaz prinç', 'domates', 'spagetti'})\n",
      "frozenset({'biber', 'spagetti', 'dana kıyma'})\n",
      "frozenset({'mantar kremalı sos', 'nan', 'dana eskalop'})\n",
      "frozenset({'domates', 'yeşil çay', 'dana kıyma'})\n",
      "frozenset({'nan', 'domates sosu', 'dana kıyma'})\n",
      "frozenset({'spagetti', 'domates sosu', 'dana kıyma'})\n",
      "frozenset({'karabiber', 'dondurulmuş kızartmalık patates', 'dana kıyma'})\n",
      "frozenset({'dondurulmuş sebze', 'spagetti', 'dana kıyma'})\n",
      "frozenset({'süt', 'hazır çorba', 'dana kıyma'})\n",
      "frozenset({'kahvaltılık gevrek', 'spagetti', 'dana kıyma'})\n",
      "frozenset({'karabiber', 'maden suyu', 'dana kıyma'})\n"
     ]
    }
   ],
   "source": [
    "for i in range(0, 20):\n",
    "    print(results[i][0])"
   ]
  },
  {
   "cell_type": "code",
   "execution_count": null,
   "metadata": {},
   "outputs": [],
   "source": []
  }
 ],
 "metadata": {
  "kernelspec": {
   "display_name": "Python 3",
   "language": "python",
   "name": "python3"
  },
  "language_info": {
   "codemirror_mode": {
    "name": "ipython",
    "version": 3
   },
   "file_extension": ".py",
   "mimetype": "text/x-python",
   "name": "python",
   "nbconvert_exporter": "python",
   "pygments_lexer": "ipython3",
   "version": "3.6.5"
  }
 },
 "nbformat": 4,
 "nbformat_minor": 2
}
