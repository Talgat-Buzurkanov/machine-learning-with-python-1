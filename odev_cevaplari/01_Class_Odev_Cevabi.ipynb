{
 "cells": [
  {
   "cell_type": "markdown",
   "metadata": {},
   "source": [
    "# 1. Hafta Ödev Cevabı 1. Yöntem"
   ]
  },
  {
   "cell_type": "code",
   "execution_count": 77,
   "metadata": {},
   "outputs": [],
   "source": [
    "# İlk yöntemde liste nesne oluştururken argüman olarak sınıfa gönderilir"
   ]
  },
  {
   "cell_type": "code",
   "execution_count": 52,
   "metadata": {},
   "outputs": [],
   "source": [
    "class ErkanBasicStatistics:\n",
    "    def __init__(self, liste=[1,2,3,4,5]): # varsayılan liste atayalım\n",
    "        self.liste = liste\n",
    "    \n",
    "    def toplam(self):\n",
    "        toplam = 0\n",
    "        for i in self.liste:\n",
    "            toplam += i\n",
    "        return toplam\n",
    "        \n",
    "    \n",
    "    def ortalama(self):\n",
    "        toplam = self.toplam() # toplama işini yukarıdaki metot ile halletmiştik, onu kullanalım.\n",
    "        n = len(self.liste) # listenin eleman sayısı\n",
    "        ortalama = toplam/n # ortalama\n",
    "        return ortalama\n",
    "    \n",
    "    def standart_sapma(self):\n",
    "        import math\n",
    "        n = len(self.liste) # listenin eleman sayısı\n",
    "        \n",
    "        # Her bir elemanın ortalamadan farkının karelerinin toplamı\n",
    "        ort_fark_kare_top = sum(math.pow((i - self.ortalama()),2) for i in self.liste)\n",
    "        \n",
    "        # Eğer liste uzunluğu (gözlem sayısı) 30'dan küçükse n-1'e bölelim\n",
    "        if n < 30:\n",
    "            standart_sapma = math.sqrt(ort_fark_kare_top/(n-1))\n",
    "        # Liste eleman sayısı (gözlem sayısı) 30'dan büyükse n'e bölelim\n",
    "        else:\n",
    "            standart_sapma = math.sqrt(ort_fark_kare_top/n)\n",
    "        return standart_sapma\n",
    "        \n",
    "        \n",
    "        "
   ]
  },
  {
   "cell_type": "markdown",
   "metadata": {},
   "source": [
    "# Sınıf oluşturulurken verilecek örnek liste"
   ]
  },
  {
   "cell_type": "code",
   "execution_count": 55,
   "metadata": {},
   "outputs": [],
   "source": [
    "liste = [1,2,3,4,5,6,7]"
   ]
  },
  {
   "cell_type": "markdown",
   "metadata": {},
   "source": [
    "# Sınıf Nesnesini Oluşturma"
   ]
  },
  {
   "cell_type": "code",
   "execution_count": 56,
   "metadata": {},
   "outputs": [],
   "source": [
    "nesne = ErkanBasicStatistics(liste)"
   ]
  },
  {
   "cell_type": "markdown",
   "metadata": {},
   "source": [
    "# 1. Ortalama"
   ]
  },
  {
   "cell_type": "code",
   "execution_count": 57,
   "metadata": {},
   "outputs": [
    {
     "name": "stdout",
     "output_type": "stream",
     "text": [
      "4.0\n"
     ]
    }
   ],
   "source": [
    "print(nesne.ortalama())"
   ]
  },
  {
   "cell_type": "markdown",
   "metadata": {},
   "source": [
    "# 2. Toplam"
   ]
  },
  {
   "cell_type": "code",
   "execution_count": 58,
   "metadata": {},
   "outputs": [
    {
     "name": "stdout",
     "output_type": "stream",
     "text": [
      "28\n"
     ]
    }
   ],
   "source": [
    "print(nesne.toplam())"
   ]
  },
  {
   "cell_type": "markdown",
   "metadata": {},
   "source": [
    "# 3. Standart Sapma"
   ]
  },
  {
   "cell_type": "code",
   "execution_count": 59,
   "metadata": {},
   "outputs": [
    {
     "name": "stdout",
     "output_type": "stream",
     "text": [
      "2.160246899469287\n"
     ]
    }
   ],
   "source": [
    "print(nesne.standart_sapma())"
   ]
  },
  {
   "cell_type": "markdown",
   "metadata": {},
   "source": [
    "## Standart sapmanın teyidi"
   ]
  },
  {
   "cell_type": "code",
   "execution_count": 60,
   "metadata": {},
   "outputs": [
    {
     "data": {
      "text/plain": [
       "2.160246899469287"
      ]
     },
     "execution_count": 60,
     "metadata": {},
     "output_type": "execute_result"
    }
   ],
   "source": [
    "import statistics\n",
    "statistics.stdev(liste)"
   ]
  },
  {
   "cell_type": "markdown",
   "metadata": {},
   "source": [
    "# 2. Yöntem"
   ]
  },
  {
   "cell_type": "code",
   "execution_count": null,
   "metadata": {},
   "outputs": [],
   "source": [
    "# Bu yöntemde metodlar kullanılırken liste argüman olarak metot içinde kullanılır"
   ]
  },
  {
   "cell_type": "code",
   "execution_count": 72,
   "metadata": {},
   "outputs": [],
   "source": [
    "class ErkanBasicStatistics2:\n",
    "    def __init__(self):\n",
    "        self.liste = [1,2,3,4,5]\n",
    "       \n",
    "    def toplam(self, gelen_liste):\n",
    "        self.liste = gelen_liste\n",
    "        toplam = 0\n",
    "        for i in self.liste:\n",
    "            toplam += i\n",
    "        return toplam\n",
    "        \n",
    "    \n",
    "    def ortalama(self, gelen_liste):\n",
    "        self.liste = gelen_liste\n",
    "        toplam = self.toplam(self.liste) # toplama işini yukarıdaki metot ile halletmiştik, onu kullanalım.\n",
    "        n = len(self.liste) # listenin eleman sayısı\n",
    "        ortalama = toplam/n # ortalama\n",
    "        return ortalama\n",
    "    \n",
    "    def standart_sapma(self, gelen_liste):\n",
    "        self.liste = gelen_liste\n",
    "        import math\n",
    "        n = len(self.liste) # listenin eleman sayısı\n",
    "        \n",
    "        # Her bir elemanın ortalamadan farkının karelerinin toplamı\n",
    "        ort_fark_kare_top = sum(math.pow((i - self.ortalama(self.liste)),2) for i in self.liste)\n",
    "        \n",
    "        # Eğer liste uzunluğu (gözlem sayısı) 30'dan küçükse n-1'e bölelim\n",
    "        if n < 30:\n",
    "            standart_sapma = math.sqrt(ort_fark_kare_top/(n-1))\n",
    "        # Liste eleman sayısı (gözlem sayısı) 30'dan büyükse n'e bölelim\n",
    "        else:\n",
    "            standart_sapma = math.sqrt(ort_fark_kare_top/n)\n",
    "        return standart_sapma\n",
    "        "
   ]
  },
  {
   "cell_type": "code",
   "execution_count": 73,
   "metadata": {},
   "outputs": [],
   "source": [
    "nesne2 = ErkanBasicStatistics2()"
   ]
  },
  {
   "cell_type": "code",
   "execution_count": 74,
   "metadata": {},
   "outputs": [
    {
     "data": {
      "text/plain": [
       "4.0"
      ]
     },
     "execution_count": 74,
     "metadata": {},
     "output_type": "execute_result"
    }
   ],
   "source": [
    "nesne2.ortalama(liste)"
   ]
  },
  {
   "cell_type": "code",
   "execution_count": 75,
   "metadata": {},
   "outputs": [
    {
     "data": {
      "text/plain": [
       "28"
      ]
     },
     "execution_count": 75,
     "metadata": {},
     "output_type": "execute_result"
    }
   ],
   "source": [
    "nesne2.toplam(liste)"
   ]
  },
  {
   "cell_type": "code",
   "execution_count": 76,
   "metadata": {},
   "outputs": [
    {
     "data": {
      "text/plain": [
       "2.160246899469287"
      ]
     },
     "execution_count": 76,
     "metadata": {},
     "output_type": "execute_result"
    }
   ],
   "source": [
    "nesne2.standart_sapma(liste)"
   ]
  },
  {
   "cell_type": "code",
   "execution_count": null,
   "metadata": {},
   "outputs": [],
   "source": []
  }
 ],
 "metadata": {
  "kernelspec": {
   "display_name": "Python 3",
   "language": "python",
   "name": "python3"
  },
  "language_info": {
   "codemirror_mode": {
    "name": "ipython",
    "version": 3
   },
   "file_extension": ".py",
   "mimetype": "text/x-python",
   "name": "python",
   "nbconvert_exporter": "python",
   "pygments_lexer": "ipython3",
   "version": "3.6.5"
  }
 },
 "nbformat": 4,
 "nbformat_minor": 2
}
