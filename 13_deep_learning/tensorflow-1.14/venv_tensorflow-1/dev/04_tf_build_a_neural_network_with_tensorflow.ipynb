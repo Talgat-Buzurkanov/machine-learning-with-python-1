{
 "cells": [
  {
   "cell_type": "code",
   "execution_count": 1,
   "metadata": {},
   "outputs": [],
   "source": [
    "import tensorflow as tf\n",
    "import numpy as np"
   ]
  },
  {
   "cell_type": "code",
   "execution_count": 2,
   "metadata": {},
   "outputs": [],
   "source": [
    "np.random.seed(101)\n",
    "tf.set_random_seed(101)"
   ]
  },
  {
   "cell_type": "code",
   "execution_count": 3,
   "metadata": {},
   "outputs": [
    {
     "data": {
      "text/plain": [
       "'1.14.0'"
      ]
     },
     "execution_count": 3,
     "metadata": {},
     "output_type": "execute_result"
    }
   ],
   "source": [
    "tf.__version__"
   ]
  },
  {
   "cell_type": "markdown",
   "metadata": {},
   "source": [
    "![image.png](simple_ann_schema.png)\n",
    "Görsel: https://www.udemy.com/complete-guide-to-tensorflow-for-deep-learning-with-python"
   ]
  },
  {
   "cell_type": "markdown",
   "metadata": {},
   "source": [
    "## Jupyter'e özgü interaktif session"
   ]
  },
  {
   "cell_type": "code",
   "execution_count": 4,
   "metadata": {},
   "outputs": [],
   "source": [
    "sess = tf.InteractiveSession()"
   ]
  },
  {
   "cell_type": "markdown",
   "metadata": {},
   "source": [
    "## Boyutlar"
   ]
  },
  {
   "cell_type": "code",
   "execution_count": 5,
   "metadata": {},
   "outputs": [],
   "source": [
    "n_features = 10\n",
    "n_dense_neurons = 3"
   ]
  },
  {
   "cell_type": "markdown",
   "metadata": {},
   "source": [
    "## input olarak x"
   ]
  },
  {
   "cell_type": "code",
   "execution_count": 6,
   "metadata": {},
   "outputs": [],
   "source": [
    "# x'lerimiz ne olacak bilmiyoruz o yüzden yer tutucu kullanıyoruz.\n",
    "# shape kısmında satır sayısına None dedik çünkü batch size şuan bilmiyoruz\n",
    "# Batch size ağı besleme esnasındaki bir arada girilen staır sayısı\n",
    "x = tf.placeholder(tf.float32, (None, n_features))"
   ]
  },
  {
   "cell_type": "markdown",
   "metadata": {},
   "source": [
    "## Ağırlık/katsayı/weight olarak W"
   ]
  },
  {
   "cell_type": "code",
   "execution_count": 7,
   "metadata": {},
   "outputs": [],
   "source": [
    "# Ağırlığımız yani x'lerin katsayıları. Genelde başlangış değeri olarak 0-1\n",
    "# arası bir değer verilir.\n",
    "W = tf.Variable(tf.random_normal( [n_features, n_dense_neurons] ))"
   ]
  },
  {
   "cell_type": "code",
   "execution_count": 8,
   "metadata": {},
   "outputs": [
    {
     "data": {
      "text/plain": [
       "array([[-0.33280614,  1.2702985 , -0.47111124],\n",
       "       [ 0.64046067,  0.22630073,  1.6514024 ],\n",
       "       [-0.50997734, -0.03110447, -0.8991391 ],\n",
       "       [ 0.06735504, -0.02050027,  0.9054657 ],\n",
       "       [ 0.13053663, -0.6236509 ,  1.740842  ],\n",
       "       [-0.12082776, -0.70383835,  1.1355529 ],\n",
       "       [-0.49338904, -0.3851979 , -0.91806746],\n",
       "       [ 2.0413523 ,  0.8281394 ,  0.12083016],\n",
       "       [-1.0672375 , -0.08883611, -0.47264633],\n",
       "       [ 0.41959324, -0.6774816 ,  1.1672206 ]], dtype=float32)"
      ]
     },
     "execution_count": 8,
     "metadata": {},
     "output_type": "execute_result"
    }
   ],
   "source": [
    "sess.run(tf.random_normal( [n_features, n_dense_neurons]))"
   ]
  },
  {
   "cell_type": "markdown",
   "metadata": {},
   "source": [
    "## Bias olarak b"
   ]
  },
  {
   "cell_type": "code",
   "execution_count": 9,
   "metadata": {},
   "outputs": [],
   "source": [
    "# bias terimi olarak her bir neuron başına bir sabit verdik\n",
    "b = tf.Variable( tf.ones([n_dense_neurons]))"
   ]
  },
  {
   "cell_type": "code",
   "execution_count": 10,
   "metadata": {},
   "outputs": [
    {
     "data": {
      "text/plain": [
       "array([1., 1., 1.], dtype=float32)"
      ]
     },
     "execution_count": 10,
     "metadata": {},
     "output_type": "execute_result"
    }
   ],
   "source": [
    "sess.run(b.initializer)\n",
    "sess.run(b)"
   ]
  },
  {
   "cell_type": "markdown",
   "metadata": {},
   "source": [
    "## Operasyon: Ağırlıklarla niteliklerin çarpımı xW"
   ]
  },
  {
   "cell_type": "code",
   "execution_count": 11,
   "metadata": {},
   "outputs": [],
   "source": [
    "# x'in satır sayısı 10, W sütun sayısı 10 olduğuna göre matris çarpımı olabilir.\n",
    "# matris çarpımında temel kural çarpılacak matris şekilleri (a,b) (b,c) olmalıdır\n",
    "xW = tf.matmul(x,W)"
   ]
  },
  {
   "cell_type": "markdown",
   "metadata": {},
   "source": [
    "## Operasyon: Bias ekleme"
   ]
  },
  {
   "cell_type": "code",
   "execution_count": 12,
   "metadata": {},
   "outputs": [],
   "source": [
    "z = tf.add(xW, b)"
   ]
  },
  {
   "cell_type": "markdown",
   "metadata": {},
   "source": [
    "## Aktivasyon Fonksiyonu"
   ]
  },
  {
   "cell_type": "code",
   "execution_count": 13,
   "metadata": {},
   "outputs": [],
   "source": [
    "# a = tf.tanh\n",
    "# a = tf.nn.relu\n",
    "a = tf.sigmoid(z)"
   ]
  },
  {
   "cell_type": "markdown",
   "metadata": {},
   "source": [
    "## Değişkenleri ilklendirme (initialize)"
   ]
  },
  {
   "cell_type": "code",
   "execution_count": 14,
   "metadata": {},
   "outputs": [],
   "source": [
    "init = tf.global_variables_initializer()\n",
    "sess.run(init)"
   ]
  },
  {
   "cell_type": "markdown",
   "metadata": {},
   "source": [
    "## Katmanı (layer) çalıştırma ve sonuçları görme"
   ]
  },
  {
   "cell_type": "code",
   "execution_count": 15,
   "metadata": {},
   "outputs": [],
   "source": [
    "layer_out = sess.run(a, feed_dict={x:np.random.random( [1, n_features] )})"
   ]
  },
  {
   "cell_type": "code",
   "execution_count": 16,
   "metadata": {},
   "outputs": [
    {
     "name": "stdout",
     "output_type": "stream",
     "text": [
      "[[0.725475   0.43900672 0.30847842]]\n"
     ]
    }
   ],
   "source": [
    "print(layer_out)"
   ]
  }
 ],
 "metadata": {
  "kernelspec": {
   "display_name": "tensorflow-1",
   "language": "python",
   "name": "tensorflow-1"
  },
  "language_info": {
   "codemirror_mode": {
    "name": "ipython",
    "version": 3
   },
   "file_extension": ".py",
   "mimetype": "text/x-python",
   "name": "python",
   "nbconvert_exporter": "python",
   "pygments_lexer": "ipython3",
   "version": "3.6.5"
  }
 },
 "nbformat": 4,
 "nbformat_minor": 2
}
