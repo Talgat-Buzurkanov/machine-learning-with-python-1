{
 "cells": [
  {
   "cell_type": "code",
   "execution_count": 56,
   "metadata": {},
   "outputs": [],
   "source": [
    "# Import libs\n",
    "import numpy as np\n",
    "import pandas as pd\n",
    "import matplotlib.pyplot as plt"
   ]
  },
  {
   "cell_type": "code",
   "execution_count": 57,
   "metadata": {},
   "outputs": [],
   "source": [
    "df = pd.read_csv(\"D:/Datasets/Churn_Modelling.csv\")"
   ]
  },
  {
   "cell_type": "markdown",
   "metadata": {},
   "source": [
    "# Veri keşfi"
   ]
  },
  {
   "cell_type": "code",
   "execution_count": 58,
   "metadata": {},
   "outputs": [
    {
     "data": {
      "text/html": [
       "<div>\n",
       "<style scoped>\n",
       "    .dataframe tbody tr th:only-of-type {\n",
       "        vertical-align: middle;\n",
       "    }\n",
       "\n",
       "    .dataframe tbody tr th {\n",
       "        vertical-align: top;\n",
       "    }\n",
       "\n",
       "    .dataframe thead th {\n",
       "        text-align: right;\n",
       "    }\n",
       "</style>\n",
       "<table border=\"1\" class=\"dataframe\">\n",
       "  <thead>\n",
       "    <tr style=\"text-align: right;\">\n",
       "      <th></th>\n",
       "      <th>RowNumber</th>\n",
       "      <th>CustomerId</th>\n",
       "      <th>Surname</th>\n",
       "      <th>CreditScore</th>\n",
       "      <th>Geography</th>\n",
       "      <th>Gender</th>\n",
       "      <th>Age</th>\n",
       "      <th>Tenure</th>\n",
       "      <th>Balance</th>\n",
       "      <th>NumOfProducts</th>\n",
       "      <th>HasCrCard</th>\n",
       "      <th>IsActiveMember</th>\n",
       "      <th>EstimatedSalary</th>\n",
       "      <th>Exited</th>\n",
       "    </tr>\n",
       "  </thead>\n",
       "  <tbody>\n",
       "    <tr>\n",
       "      <th>0</th>\n",
       "      <td>1</td>\n",
       "      <td>15634602</td>\n",
       "      <td>Hargrave</td>\n",
       "      <td>619</td>\n",
       "      <td>France</td>\n",
       "      <td>Female</td>\n",
       "      <td>42</td>\n",
       "      <td>2</td>\n",
       "      <td>0.00</td>\n",
       "      <td>1</td>\n",
       "      <td>1</td>\n",
       "      <td>1</td>\n",
       "      <td>101348.88</td>\n",
       "      <td>1</td>\n",
       "    </tr>\n",
       "    <tr>\n",
       "      <th>1</th>\n",
       "      <td>2</td>\n",
       "      <td>15647311</td>\n",
       "      <td>Hill</td>\n",
       "      <td>608</td>\n",
       "      <td>Spain</td>\n",
       "      <td>Female</td>\n",
       "      <td>41</td>\n",
       "      <td>1</td>\n",
       "      <td>83807.86</td>\n",
       "      <td>1</td>\n",
       "      <td>0</td>\n",
       "      <td>1</td>\n",
       "      <td>112542.58</td>\n",
       "      <td>0</td>\n",
       "    </tr>\n",
       "    <tr>\n",
       "      <th>2</th>\n",
       "      <td>3</td>\n",
       "      <td>15619304</td>\n",
       "      <td>Onio</td>\n",
       "      <td>502</td>\n",
       "      <td>France</td>\n",
       "      <td>Female</td>\n",
       "      <td>42</td>\n",
       "      <td>8</td>\n",
       "      <td>159660.80</td>\n",
       "      <td>3</td>\n",
       "      <td>1</td>\n",
       "      <td>0</td>\n",
       "      <td>113931.57</td>\n",
       "      <td>1</td>\n",
       "    </tr>\n",
       "    <tr>\n",
       "      <th>3</th>\n",
       "      <td>4</td>\n",
       "      <td>15701354</td>\n",
       "      <td>Boni</td>\n",
       "      <td>699</td>\n",
       "      <td>France</td>\n",
       "      <td>Female</td>\n",
       "      <td>39</td>\n",
       "      <td>1</td>\n",
       "      <td>0.00</td>\n",
       "      <td>2</td>\n",
       "      <td>0</td>\n",
       "      <td>0</td>\n",
       "      <td>93826.63</td>\n",
       "      <td>0</td>\n",
       "    </tr>\n",
       "    <tr>\n",
       "      <th>4</th>\n",
       "      <td>5</td>\n",
       "      <td>15737888</td>\n",
       "      <td>Mitchell</td>\n",
       "      <td>850</td>\n",
       "      <td>Spain</td>\n",
       "      <td>Female</td>\n",
       "      <td>43</td>\n",
       "      <td>2</td>\n",
       "      <td>125510.82</td>\n",
       "      <td>1</td>\n",
       "      <td>1</td>\n",
       "      <td>1</td>\n",
       "      <td>79084.10</td>\n",
       "      <td>0</td>\n",
       "    </tr>\n",
       "  </tbody>\n",
       "</table>\n",
       "</div>"
      ],
      "text/plain": [
       "   RowNumber  CustomerId   Surname  CreditScore Geography  Gender  Age  \\\n",
       "0          1    15634602  Hargrave          619    France  Female   42   \n",
       "1          2    15647311      Hill          608     Spain  Female   41   \n",
       "2          3    15619304      Onio          502    France  Female   42   \n",
       "3          4    15701354      Boni          699    France  Female   39   \n",
       "4          5    15737888  Mitchell          850     Spain  Female   43   \n",
       "\n",
       "   Tenure    Balance  NumOfProducts  HasCrCard  IsActiveMember  \\\n",
       "0       2       0.00              1          1               1   \n",
       "1       1   83807.86              1          0               1   \n",
       "2       8  159660.80              3          1               0   \n",
       "3       1       0.00              2          0               0   \n",
       "4       2  125510.82              1          1               1   \n",
       "\n",
       "   EstimatedSalary  Exited  \n",
       "0        101348.88       1  \n",
       "1        112542.58       0  \n",
       "2        113931.57       1  \n",
       "3         93826.63       0  \n",
       "4         79084.10       0  "
      ]
     },
     "execution_count": 58,
     "metadata": {},
     "output_type": "execute_result"
    }
   ],
   "source": [
    "df.head()"
   ]
  },
  {
   "cell_type": "code",
   "execution_count": 59,
   "metadata": {},
   "outputs": [
    {
     "data": {
      "text/plain": [
       "14"
      ]
     },
     "execution_count": 59,
     "metadata": {},
     "output_type": "execute_result"
    }
   ],
   "source": [
    "len(df.columns)"
   ]
  },
  {
   "cell_type": "code",
   "execution_count": 60,
   "metadata": {},
   "outputs": [
    {
     "name": "stdout",
     "output_type": "stream",
     "text": [
      "<class 'pandas.core.frame.DataFrame'>\n",
      "RangeIndex: 10000 entries, 0 to 9999\n",
      "Data columns (total 14 columns):\n",
      "RowNumber          10000 non-null int64\n",
      "CustomerId         10000 non-null int64\n",
      "Surname            10000 non-null object\n",
      "CreditScore        10000 non-null int64\n",
      "Geography          10000 non-null object\n",
      "Gender             10000 non-null object\n",
      "Age                10000 non-null int64\n",
      "Tenure             10000 non-null int64\n",
      "Balance            10000 non-null float64\n",
      "NumOfProducts      10000 non-null int64\n",
      "HasCrCard          10000 non-null int64\n",
      "IsActiveMember     10000 non-null int64\n",
      "EstimatedSalary    10000 non-null float64\n",
      "Exited             10000 non-null int64\n",
      "dtypes: float64(2), int64(9), object(3)\n",
      "memory usage: 1.1+ MB\n"
     ]
    }
   ],
   "source": [
    "df.info()"
   ]
  },
  {
   "cell_type": "code",
   "execution_count": 61,
   "metadata": {},
   "outputs": [
    {
     "data": {
      "text/html": [
       "<div>\n",
       "<style scoped>\n",
       "    .dataframe tbody tr th:only-of-type {\n",
       "        vertical-align: middle;\n",
       "    }\n",
       "\n",
       "    .dataframe tbody tr th {\n",
       "        vertical-align: top;\n",
       "    }\n",
       "\n",
       "    .dataframe thead th {\n",
       "        text-align: right;\n",
       "    }\n",
       "</style>\n",
       "<table border=\"1\" class=\"dataframe\">\n",
       "  <thead>\n",
       "    <tr style=\"text-align: right;\">\n",
       "      <th></th>\n",
       "      <th>count</th>\n",
       "    </tr>\n",
       "    <tr>\n",
       "      <th>Exited</th>\n",
       "      <th></th>\n",
       "    </tr>\n",
       "  </thead>\n",
       "  <tbody>\n",
       "    <tr>\n",
       "      <th>0</th>\n",
       "      <td>7963</td>\n",
       "    </tr>\n",
       "    <tr>\n",
       "      <th>1</th>\n",
       "      <td>2037</td>\n",
       "    </tr>\n",
       "  </tbody>\n",
       "</table>\n",
       "</div>"
      ],
      "text/plain": [
       "        count\n",
       "Exited       \n",
       "0        7963\n",
       "1        2037"
      ]
     },
     "execution_count": 61,
     "metadata": {},
     "output_type": "execute_result"
    }
   ],
   "source": [
    "df.groupby(['Exited']).RowNumber.agg(['count'])"
   ]
  },
  {
   "cell_type": "code",
   "execution_count": 62,
   "metadata": {},
   "outputs": [],
   "source": [
    "# Bağımlı ve bağımsız değişkenleri ayırma\n",
    "# RowNumber, CustomerId, Surname hedef değişkeni tahmin etme bakımından işe yaramaz. Bu yüzden 0,1,2 indeksli nitelikleri\n",
    "# Nitelikler matrisine dahil etmiyoruz. Yukarıda kaç tane nitelik olduğunu yazdırmıştık. Şimdi 0,1,2 hari ise 3'ten başlayacak. \n",
    "# Python'da indeks değeri 0'dan başladığına ve 14 nitalik olduğuna göre son niteliğin indeks değeri 13 olacaktır. iloc ile sütun\n",
    "#seçerken ilk değer dahil ikinci değer hariçtir. bu sebeple 3'ü dahil 13'ü hariç tutacağız. Çünkü son indeks değeri Exited yani\n",
    "# hedef değişkene geliyor. İlk : tüm satırlar \",\" sonrası sütunlardan seçilecek filtre. 3:13 demek 3 dahil 13 hariç indeksli\n",
    "# sütunları seç demek\n",
    "\n",
    "X = df.iloc[:,3:13].values\n",
    "\n",
    "# Hedef niteliğimiz 13. indekste idi. O sebeple : ile tüm satırları \",\" den sonra 13 ile hedef niteliğin indeksini seçiyoruz.\n",
    "y = df.iloc[:,13].values"
   ]
  },
  {
   "cell_type": "code",
   "execution_count": 63,
   "metadata": {},
   "outputs": [
    {
     "data": {
      "text/plain": [
       "(10000, 10)"
      ]
     },
     "execution_count": 63,
     "metadata": {},
     "output_type": "execute_result"
    }
   ],
   "source": [
    "X.shape"
   ]
  },
  {
   "cell_type": "code",
   "execution_count": 64,
   "metadata": {},
   "outputs": [
    {
     "data": {
      "text/plain": [
       "(10000,)"
      ]
     },
     "execution_count": 64,
     "metadata": {},
     "output_type": "execute_result"
    }
   ],
   "source": [
    "y.shape"
   ]
  },
  {
   "cell_type": "markdown",
   "metadata": {},
   "source": [
    "# Kategorik Nitelikler için LabelEncoder"
   ]
  },
  {
   "cell_type": "code",
   "execution_count": 65,
   "metadata": {},
   "outputs": [],
   "source": [
    "# Hedef nitelik 0 ve 1 olmak üzere zaten nümerik değer olduğu için onu LabelEncoder ile kodlamaya gerek yok.\n",
    "from sklearn.preprocessing import LabelEncoder, OneHotEncoder\n",
    "\n",
    "# X nitelikler matrisini incelediğimizde 1'inci indekste Geography 2'nci indekste Gender'ın kategorik olduğunu görüyoruz.\n",
    "# Önce Geagraphy için LabelEncoder yaratalım\n",
    "labelEncoder_Geo = LabelEncoder()\n",
    "X[:, 1] = labelEncoder_Geo.fit_transform(X[:, 1])"
   ]
  },
  {
   "cell_type": "code",
   "execution_count": 66,
   "metadata": {},
   "outputs": [],
   "source": [
    "# Şimdi Gender için\n",
    "labelEncoder_Gender = LabelEncoder()\n",
    "X[:,2] = labelEncoder_Gender.fit_transform(X[:,2])"
   ]
  },
  {
   "cell_type": "markdown",
   "metadata": {},
   "source": [
    "# OneHotEncoder"
   ]
  },
  {
   "cell_type": "code",
   "execution_count": 67,
   "metadata": {},
   "outputs": [],
   "source": [
    "from sklearn.preprocessing import OneHotEncoder\n",
    "onehotencoder = OneHotEncoder(handle_unknown='ignore', categories='auto')"
   ]
  },
  {
   "cell_type": "code",
   "execution_count": 68,
   "metadata": {},
   "outputs": [],
   "source": [
    "# Birden sütunu ilgilendiren dönüşümleri kolay yapabilmek için kullanışlı bir sınıf (Estimator kökenli)\n",
    "# Biz burada sadece OneHotEncoder için kullanacağız.\n",
    "from sklearn.compose import ColumnTransformer\n",
    "\n",
    "# one_hot_encode_with_ct bizim kendi verdiğiiz isimdir. onehotencoder'ı yukarıda yarattık. [1] ise dönüşecek\n",
    "# niteliklerin indeks değerleridir (Geography) Gender binary olduğu için sokmaya gerek yok.\n",
    "ct = ColumnTransformer(\n",
    "    [('one_hot_encode_with_ct', onehotencoder, [1]),], \n",
    "    remainder='passthrough'\n",
    ")"
   ]
  },
  {
   "cell_type": "code",
   "execution_count": 69,
   "metadata": {},
   "outputs": [],
   "source": [
    "# ColumnTransformer nesnesi ile onehotencoder nesnesini eğitip gerekli dönüşümleri gerçekleştirip X'e tekrar atayalım.\n",
    "# Burada X'in boyutu(shape) değişecektir.\n",
    "X = ct.fit_transform(X)"
   ]
  },
  {
   "cell_type": "code",
   "execution_count": 70,
   "metadata": {},
   "outputs": [
    {
     "data": {
      "text/plain": [
       "(10000, 12)"
      ]
     },
     "execution_count": 70,
     "metadata": {},
     "output_type": "execute_result"
    }
   ],
   "source": [
    "X.shape"
   ]
  },
  {
   "cell_type": "code",
   "execution_count": 71,
   "metadata": {},
   "outputs": [
    {
     "data": {
      "text/plain": [
       "array([[1.0, 0.0, 0.0, 619, 0, 42, 2, 0.0, 1, 1, 1, 101348.88],\n",
       "       [0.0, 0.0, 1.0, 608, 0, 41, 1, 83807.86, 1, 0, 1, 112542.58],\n",
       "       [1.0, 0.0, 0.0, 502, 0, 42, 8, 159660.8, 3, 1, 0, 113931.57]],\n",
       "      dtype=object)"
      ]
     },
     "execution_count": 71,
     "metadata": {},
     "output_type": "execute_result"
    }
   ],
   "source": [
    "X[:3]"
   ]
  },
  {
   "cell_type": "code",
   "execution_count": 72,
   "metadata": {},
   "outputs": [],
   "source": [
    "# Gölge Değişken Tuzağından kurtulmak için Yeni oluşturulan gölge değişkenlerden birini çıkaralım (0 çıkıyor)\n",
    "X = X[:,1:]"
   ]
  },
  {
   "cell_type": "code",
   "execution_count": 73,
   "metadata": {},
   "outputs": [
    {
     "data": {
      "text/plain": [
       "(10000, 11)"
      ]
     },
     "execution_count": 73,
     "metadata": {},
     "output_type": "execute_result"
    }
   ],
   "source": [
    "X.shape"
   ]
  },
  {
   "cell_type": "markdown",
   "metadata": {},
   "source": [
    "# Feature Scaling"
   ]
  },
  {
   "cell_type": "code",
   "execution_count": 74,
   "metadata": {},
   "outputs": [],
   "source": [
    "# Nitelikler matrisini (X) StandardScaler\n",
    "from sklearn.preprocessing import StandardScaler\n",
    "\n",
    "scaler = StandardScaler()\n",
    "X = scaler.fit_transform(X)"
   ]
  },
  {
   "cell_type": "code",
   "execution_count": 75,
   "metadata": {},
   "outputs": [
    {
     "data": {
      "text/plain": [
       "array([[-0.57873591, -0.57380915, -0.32622142, -1.09598752,  0.29351742,\n",
       "        -1.04175968, -1.22584767, -0.91158349,  0.64609167,  0.97024255,\n",
       "         0.02188649],\n",
       "       [-0.57873591,  1.74273971, -0.44003595, -1.09598752,  0.19816383,\n",
       "        -1.38753759,  0.11735002, -0.91158349, -1.54776799,  0.97024255,\n",
       "         0.21653375],\n",
       "       [-0.57873591, -0.57380915, -1.53679418, -1.09598752,  0.29351742,\n",
       "         1.03290776,  1.33305335,  2.52705662,  0.64609167, -1.03067011,\n",
       "         0.2406869 ]])"
      ]
     },
     "execution_count": 75,
     "metadata": {},
     "output_type": "execute_result"
    }
   ],
   "source": [
    "X[:3]"
   ]
  },
  {
   "cell_type": "markdown",
   "metadata": {},
   "source": [
    "# Eğitim ve Test Seti olarak Ayırmak"
   ]
  },
  {
   "cell_type": "code",
   "execution_count": 76,
   "metadata": {},
   "outputs": [],
   "source": [
    "from sklearn.model_selection import train_test_split\n",
    "\n",
    "#Sıralamaya dikkat. Aynı sonuçlar için random_state değeri aynı olmalıdır.\n",
    "X_train, X_test, y_train, y_test = train_test_split(X, y, test_size=0.20, random_state=142)"
   ]
  },
  {
   "cell_type": "markdown",
   "metadata": {},
   "source": [
    "# Bölüm 2 ANN"
   ]
  },
  {
   "cell_type": "code",
   "execution_count": 77,
   "metadata": {},
   "outputs": [],
   "source": [
    "# Bu bölümden önce aşağıdaki kütüphaneler kurulmalıdır.\n",
    "# !pip install theano\n",
    "\n",
    "# !pip install tensorflow\n",
    "\n",
    "# !pip install keras\n"
   ]
  },
  {
   "cell_type": "code",
   "execution_count": 78,
   "metadata": {},
   "outputs": [],
   "source": [
    "# Keras kütüphanelerini indirme\n",
    "import keras\n",
    "from keras.models import Sequential\n",
    "from keras.layers import Dense"
   ]
  },
  {
   "cell_type": "markdown",
   "metadata": {},
   "source": [
    "## YAPAY SİNİR AĞI NESNESİ OLUŞTURMA"
   ]
  },
  {
   "cell_type": "code",
   "execution_count": 79,
   "metadata": {},
   "outputs": [],
   "source": [
    "# Yapay sinir ağı iki farklı şekilde başlatılabilir: \n",
    "# 1. Katmanlar dizilimi (Sequantial layers) olarak. \n",
    "# 2. Graph olarak.\n",
    "# Birinci yolda sadece yukarıda indirilen Sequantial sınıfından nesne yaratılır. \n",
    "# Bu da Karar ağacı, SVM gibi bir sınıflandırıcı olacak.\n",
    "classifier = Sequential()"
   ]
  },
  {
   "cell_type": "markdown",
   "metadata": {},
   "source": [
    "## Bir Sinir Ağını Stochastic Gradient Descent ile Eğitmenin Aşamaları"
   ]
  },
  {
   "cell_type": "markdown",
   "metadata": {},
   "source": [
    "    Sıfıra yakın rastgele değerler ile ağırlık katsayılarını belirle.\n",
    "    Input layera ilk gözlemi(bir satır) her bir düğüme bir nitelik (nitelikler matrisi sütün sayısı kadar) düşecek şekilde ver.\n",
    "    Ağı çalıştır ve ilk tahmin y değerini üret.\n",
    "    Üretilen y ile tahmin edilen y arasındaki hatayı hesapla.\n",
    "    Hesaplanan hatayı geri besleme olarak gönder ve her bir ağırlık katsayısını güncelle.\n",
    "    1 ve 5 arasını ya her bir satırdan sonra veya belli bir satır sayısından (grup-batch) sonra tekrarla.\n",
    "    Veri setindeki tüm satırların bitmesi bir epoch oluşturur. Bunu defalarca tekrarla."
   ]
  },
  {
   "cell_type": "markdown",
   "metadata": {},
   "source": [
    "## GİRDİ VE İLK GİZLİ KATMANI EKLEME"
   ]
  },
  {
   "cell_type": "code",
   "execution_count": 80,
   "metadata": {},
   "outputs": [],
   "source": [
    "# classifier nesnesinin add() metodu içine Dense() Sınıfının nesnesnesini parametre olarak veriyoruz.\n",
    "# Dense içindeki ilk parametre \n",
    "# kernel_initializer (eski init): Başlangıç ağırlıklarını belirler. uniform fonksiyonunu kullanıyoruz.\n",
    "# input_dim: Yapay sinir ağı nesnesine ilk katman ekleme işlemi yapılırken mutlaka girdi katmanında kaç düğüm olacağı bildirilir.\n",
    "# aksi halde ilk gizli katman kendisine kaç düğümden bağlantı olacak bilemez. \n",
    "# Bu rakam nitelikler matrisindeki sütun sayısıdır yani 11\n",
    "# units (eski:output_dim): Bu sayının nasıl verileceğine dair sağlam bir kural yok. Biraz sanatkarlık ve tecrübe\n",
    "# gerektiriyor. Tecrübeye dayalı ipucu: Girdi ve çıktı düğüm sayısının ortalamasını verebilirsin. \n",
    "# Bu örnekte (11+1=12/2=6) Ya da parametre tuning tekniklerini kullanabilirsin.\n",
    "# activation: Gizli düğümler için rectifier çıktı düğüm için sigmoid olsun. Rectifier action parametresinde relu olarak tanımlı\n",
    "\n",
    "\n",
    "classifier.add(Dense(kernel_initializer = 'uniform', input_dim = 11, units = 6,  activation = 'relu'))"
   ]
  },
  {
   "cell_type": "markdown",
   "metadata": {},
   "source": [
    "## İKİNCİ GİZLİ KATMANI EKLEME"
   ]
  },
  {
   "cell_type": "code",
   "execution_count": 81,
   "metadata": {},
   "outputs": [],
   "source": [
    "# İkinci Gizli Katmanı Eklemek\n",
    "\n",
    "# Yukarıda ilk gizli katman ve düğüm sayısı belli olduğu için burada input_dim parametresi kullanmaya gerek yok.\n",
    "# Gizli katman sayısını (units) aynı tutuyoruz. kaba formül kullandık yine.\n",
    "classifier.add(Dense(kernel_initializer = 'uniform', units = 4,  activation = 'relu'))"
   ]
  },
  {
   "cell_type": "markdown",
   "metadata": {},
   "source": [
    "## ÇIKTI KATMANI (OUTPUT LAYER) EKLEME"
   ]
  },
  {
   "cell_type": "code",
   "execution_count": 82,
   "metadata": {},
   "outputs": [],
   "source": [
    "# Bu katmanın bir öncekinden farkı düğüm sayısı ve activasyon fonksiyonu olacak\n",
    "\n",
    "classifier.add(Dense(kernel_initializer = 'uniform', units = 1,  activation = 'sigmoid'))"
   ]
  },
  {
   "cell_type": "markdown",
   "metadata": {},
   "source": [
    "## YAPAY SINIR AĞINI DERLEME (COMPILE ANN)"
   ]
  },
  {
   "cell_type": "code",
   "execution_count": 83,
   "metadata": {},
   "outputs": [],
   "source": [
    "# optimizer: Stochastic Gradient Descent'i temsilen adam\n",
    "# loss: SGD'ni optimizasyonu için kullanılacak loss function. \n",
    "#       Tahmin y ile gerçek ye değeri arasını hesaplayıp en optimal değeri\n",
    "# SGD'ye buldurur. Logaritmik loss function. Binary olduğu için binary_crossentropy kullanıyoruz.\n",
    "# metrics: İlave olarak burada model değerlendirme kriterleri belirlenir. Bir liste halinde verilir. \n",
    "#          Biz şimdilik sadece accuracy veriyoruz.\n",
    "\n",
    "\n",
    "classifier.compile(optimizer='adam', loss='binary_crossentropy', metrics=['accuracy'])"
   ]
  },
  {
   "cell_type": "markdown",
   "metadata": {},
   "source": [
    "# Yapay Sinir Ağını Eğitim Verisi ile Eğitmek"
   ]
  },
  {
   "cell_type": "code",
   "execution_count": 84,
   "metadata": {},
   "outputs": [
    {
     "name": "stdout",
     "output_type": "stream",
     "text": [
      "Epoch 1/200\n",
      "8000/8000 [==============================] - 1s 146us/step - loss: 0.4707 - acc: 0.7916\n",
      "Epoch 2/200\n",
      "8000/8000 [==============================] - 1s 119us/step - loss: 0.4298 - acc: 0.7916\n",
      "Epoch 3/200\n",
      "8000/8000 [==============================] - 1s 121us/step - loss: 0.4237 - acc: 0.8136\n",
      "Epoch 4/200\n",
      "8000/8000 [==============================] - 1s 120us/step - loss: 0.4196 - acc: 0.8251\n",
      "Epoch 5/200\n",
      "8000/8000 [==============================] - 1s 125us/step - loss: 0.4174 - acc: 0.8273\n",
      "Epoch 6/200\n",
      "8000/8000 [==============================] - 1s 121us/step - loss: 0.4156 - acc: 0.8313\n",
      "Epoch 7/200\n",
      "8000/8000 [==============================] - 1s 119us/step - loss: 0.4141 - acc: 0.8294\n",
      "Epoch 8/200\n",
      "8000/8000 [==============================] - 1s 119us/step - loss: 0.4128 - acc: 0.8328\n",
      "Epoch 9/200\n",
      "8000/8000 [==============================] - 1s 118us/step - loss: 0.4116 - acc: 0.8310\n",
      "Epoch 10/200\n",
      "8000/8000 [==============================] - 1s 118us/step - loss: 0.4106 - acc: 0.8309 0s - loss: 0.3998 - acc: 0 - ETA: 0s - loss: 0.4051 - a\n",
      "Epoch 11/200\n",
      "8000/8000 [==============================] - 1s 119us/step - loss: 0.4099 - acc: 0.8294\n",
      "Epoch 12/200\n",
      "8000/8000 [==============================] - 1s 118us/step - loss: 0.4092 - acc: 0.8305\n",
      "Epoch 13/200\n",
      "8000/8000 [==============================] - 1s 118us/step - loss: 0.4090 - acc: 0.8306\n",
      "Epoch 14/200\n",
      "8000/8000 [==============================] - 1s 120us/step - loss: 0.4077 - acc: 0.8310\n",
      "Epoch 15/200\n",
      "8000/8000 [==============================] - 1s 127us/step - loss: 0.4068 - acc: 0.8321\n",
      "Epoch 16/200\n",
      "8000/8000 [==============================] - 1s 126us/step - loss: 0.4062 - acc: 0.8315\n",
      "Epoch 17/200\n",
      "8000/8000 [==============================] - 1s 128us/step - loss: 0.4043 - acc: 0.8329\n",
      "Epoch 18/200\n",
      "8000/8000 [==============================] - 1s 121us/step - loss: 0.4038 - acc: 0.8318\n",
      "Epoch 19/200\n",
      "8000/8000 [==============================] - 1s 119us/step - loss: 0.4032 - acc: 0.8318\n",
      "Epoch 20/200\n",
      "8000/8000 [==============================] - 1s 119us/step - loss: 0.4028 - acc: 0.8333\n",
      "Epoch 21/200\n",
      "8000/8000 [==============================] - 1s 120us/step - loss: 0.4028 - acc: 0.8304\n",
      "Epoch 22/200\n",
      "8000/8000 [==============================] - 1s 121us/step - loss: 0.4022 - acc: 0.8321\n",
      "Epoch 23/200\n",
      "8000/8000 [==============================] - 1s 121us/step - loss: 0.4008 - acc: 0.8330\n",
      "Epoch 24/200\n",
      "8000/8000 [==============================] - 1s 122us/step - loss: 0.4014 - acc: 0.8325\n",
      "Epoch 25/200\n",
      "8000/8000 [==============================] - 1s 124us/step - loss: 0.4012 - acc: 0.8341\n",
      "Epoch 26/200\n",
      "8000/8000 [==============================] - 1s 123us/step - loss: 0.4014 - acc: 0.8320\n",
      "Epoch 27/200\n",
      "8000/8000 [==============================] - 1s 123us/step - loss: 0.4003 - acc: 0.8311 0s - loss: 0.39\n",
      "Epoch 28/200\n",
      "8000/8000 [==============================] - 1s 122us/step - loss: 0.4006 - acc: 0.8330\n",
      "Epoch 29/200\n",
      "8000/8000 [==============================] - 1s 123us/step - loss: 0.4007 - acc: 0.8344\n",
      "Epoch 30/200\n",
      "8000/8000 [==============================] - 1s 122us/step - loss: 0.4000 - acc: 0.8335\n",
      "Epoch 31/200\n",
      "8000/8000 [==============================] - 1s 124us/step - loss: 0.4000 - acc: 0.8338 0s - loss: 0.3\n",
      "Epoch 32/200\n",
      "8000/8000 [==============================] - 1s 123us/step - loss: 0.3996 - acc: 0.8331 0s - loss: 0.39\n",
      "Epoch 33/200\n",
      "8000/8000 [==============================] - 1s 123us/step - loss: 0.4001 - acc: 0.8315\n",
      "Epoch 34/200\n",
      "8000/8000 [==============================] - 1s 123us/step - loss: 0.3986 - acc: 0.8339 0s - loss: 0.3762 - acc - ETA: 0s - loss: 0.3923 - acc: 0\n",
      "Epoch 35/200\n",
      "8000/8000 [==============================] - 1s 127us/step - loss: 0.3990 - acc: 0.8340\n",
      "Epoch 36/200\n",
      "8000/8000 [==============================] - 1s 128us/step - loss: 0.3987 - acc: 0.8353\n",
      "Epoch 37/200\n",
      "8000/8000 [==============================] - 1s 125us/step - loss: 0.3987 - acc: 0.8361\n",
      "Epoch 38/200\n",
      "8000/8000 [==============================] - 1s 123us/step - loss: 0.3982 - acc: 0.8351 0s - loss: 0.418\n",
      "Epoch 39/200\n",
      "8000/8000 [==============================] - 1s 122us/step - loss: 0.3975 - acc: 0.8351 0s - loss: 0.3908 - acc\n",
      "Epoch 40/200\n",
      "8000/8000 [==============================] - 1s 121us/step - loss: 0.3977 - acc: 0.8361\n",
      "Epoch 41/200\n",
      "8000/8000 [==============================] - 1s 122us/step - loss: 0.3972 - acc: 0.8354\n",
      "Epoch 42/200\n",
      "8000/8000 [==============================] - 1s 123us/step - loss: 0.3978 - acc: 0.8351\n",
      "Epoch 43/200\n",
      "8000/8000 [==============================] - ETA: 0s - loss: 0.3974 - acc: 0.835 - 1s 122us/step - loss: 0.3973 - acc: 0.8348\n",
      "Epoch 44/200\n",
      "8000/8000 [==============================] - 1s 123us/step - loss: 0.3973 - acc: 0.8340\n",
      "Epoch 45/200\n",
      "8000/8000 [==============================] - 1s 126us/step - loss: 0.3966 - acc: 0.8351\n",
      "Epoch 46/200\n",
      "8000/8000 [==============================] - 1s 126us/step - loss: 0.3970 - acc: 0.8330\n",
      "Epoch 47/200\n",
      "8000/8000 [==============================] - 1s 124us/step - loss: 0.3960 - acc: 0.8354\n",
      "Epoch 48/200\n",
      "8000/8000 [==============================] - 1s 124us/step - loss: 0.3962 - acc: 0.8346\n",
      "Epoch 49/200\n",
      "8000/8000 [==============================] - 1s 126us/step - loss: 0.3967 - acc: 0.8339\n",
      "Epoch 50/200\n",
      "8000/8000 [==============================] - 1s 113us/step - loss: 0.3969 - acc: 0.8343\n",
      "Epoch 51/200\n",
      "8000/8000 [==============================] - 1s 114us/step - loss: 0.3967 - acc: 0.8345\n",
      "Epoch 52/200\n",
      "8000/8000 [==============================] - ETA: 0s - loss: 0.3987 - acc: 0.834 - 1s 118us/step - loss: 0.3964 - acc: 0.8359\n",
      "Epoch 53/200\n",
      "8000/8000 [==============================] - 1s 111us/step - loss: 0.3960 - acc: 0.8326\n",
      "Epoch 54/200\n",
      "8000/8000 [==============================] - 1s 113us/step - loss: 0.3955 - acc: 0.8356\n",
      "Epoch 55/200\n",
      "8000/8000 [==============================] - 1s 116us/step - loss: 0.3959 - acc: 0.8338\n",
      "Epoch 56/200\n",
      "8000/8000 [==============================] - 1s 117us/step - loss: 0.3955 - acc: 0.8333\n",
      "Epoch 57/200\n",
      "8000/8000 [==============================] - 1s 116us/step - loss: 0.3946 - acc: 0.8338\n",
      "Epoch 58/200\n",
      "8000/8000 [==============================] - 1s 116us/step - loss: 0.3929 - acc: 0.8341\n",
      "Epoch 59/200\n",
      "8000/8000 [==============================] - 1s 117us/step - loss: 0.3906 - acc: 0.8360\n",
      "Epoch 60/200\n",
      "8000/8000 [==============================] - 1s 115us/step - loss: 0.3885 - acc: 0.8368\n",
      "Epoch 61/200\n",
      "8000/8000 [==============================] - 1s 115us/step - loss: 0.3802 - acc: 0.8401\n",
      "Epoch 62/200\n",
      "8000/8000 [==============================] - 1s 111us/step - loss: 0.3721 - acc: 0.8424\n",
      "Epoch 63/200\n",
      "8000/8000 [==============================] - 1s 111us/step - loss: 0.3661 - acc: 0.8453\n",
      "Epoch 64/200\n",
      "8000/8000 [==============================] - 1s 111us/step - loss: 0.3597 - acc: 0.8494\n",
      "Epoch 65/200\n",
      "8000/8000 [==============================] - 1s 111us/step - loss: 0.3573 - acc: 0.8546\n",
      "Epoch 66/200\n",
      "8000/8000 [==============================] - 1s 111us/step - loss: 0.3555 - acc: 0.8520\n",
      "Epoch 67/200\n",
      "8000/8000 [==============================] - 1s 111us/step - loss: 0.3541 - acc: 0.8523\n",
      "Epoch 68/200\n",
      "8000/8000 [==============================] - 1s 111us/step - loss: 0.3525 - acc: 0.8553\n",
      "Epoch 69/200\n",
      "8000/8000 [==============================] - 1s 112us/step - loss: 0.3511 - acc: 0.8566\n",
      "Epoch 70/200\n",
      "8000/8000 [==============================] - 1s 115us/step - loss: 0.3503 - acc: 0.8564\n",
      "Epoch 71/200\n",
      "8000/8000 [==============================] - 1s 115us/step - loss: 0.3495 - acc: 0.8560\n",
      "Epoch 72/200\n",
      "8000/8000 [==============================] - 1s 116us/step - loss: 0.3485 - acc: 0.8573\n",
      "Epoch 73/200\n",
      "8000/8000 [==============================] - 1s 112us/step - loss: 0.3475 - acc: 0.8606\n",
      "Epoch 74/200\n",
      "8000/8000 [==============================] - 1s 111us/step - loss: 0.3484 - acc: 0.8561\n",
      "Epoch 75/200\n",
      "8000/8000 [==============================] - 1s 112us/step - loss: 0.3479 - acc: 0.8585\n",
      "Epoch 76/200\n",
      "8000/8000 [==============================] - 1s 113us/step - loss: 0.3474 - acc: 0.8596\n",
      "Epoch 77/200\n",
      "8000/8000 [==============================] - 1s 113us/step - loss: 0.3481 - acc: 0.8579\n",
      "Epoch 78/200\n",
      "8000/8000 [==============================] - 1s 112us/step - loss: 0.3471 - acc: 0.8578\n",
      "Epoch 79/200\n"
     ]
    },
    {
     "name": "stdout",
     "output_type": "stream",
     "text": [
      "8000/8000 [==============================] - 1s 110us/step - loss: 0.3465 - acc: 0.8571\n",
      "Epoch 80/200\n",
      "8000/8000 [==============================] - 1s 110us/step - loss: 0.3468 - acc: 0.8564\n",
      "Epoch 81/200\n",
      "8000/8000 [==============================] - 1s 111us/step - loss: 0.3467 - acc: 0.8594\n",
      "Epoch 82/200\n",
      "8000/8000 [==============================] - 1s 110us/step - loss: 0.3464 - acc: 0.8591\n",
      "Epoch 83/200\n",
      "8000/8000 [==============================] - 1s 111us/step - loss: 0.3459 - acc: 0.8590\n",
      "Epoch 84/200\n",
      "8000/8000 [==============================] - 1s 115us/step - loss: 0.3457 - acc: 0.8609\n",
      "Epoch 85/200\n",
      "8000/8000 [==============================] - 1s 114us/step - loss: 0.3461 - acc: 0.8595\n",
      "Epoch 86/200\n",
      "8000/8000 [==============================] - 1s 109us/step - loss: 0.3448 - acc: 0.8588\n",
      "Epoch 87/200\n",
      "8000/8000 [==============================] - 1s 110us/step - loss: 0.3454 - acc: 0.8604\n",
      "Epoch 88/200\n",
      "8000/8000 [==============================] - 1s 113us/step - loss: 0.3449 - acc: 0.8605\n",
      "Epoch 89/200\n",
      "8000/8000 [==============================] - 1s 114us/step - loss: 0.3448 - acc: 0.8598\n",
      "Epoch 90/200\n",
      "8000/8000 [==============================] - 1s 113us/step - loss: 0.3446 - acc: 0.8574\n",
      "Epoch 91/200\n",
      "8000/8000 [==============================] - 1s 116us/step - loss: 0.3446 - acc: 0.8589\n",
      "Epoch 92/200\n",
      "8000/8000 [==============================] - 1s 116us/step - loss: 0.3448 - acc: 0.8590\n",
      "Epoch 93/200\n",
      "8000/8000 [==============================] - 1s 113us/step - loss: 0.3448 - acc: 0.8586\n",
      "Epoch 94/200\n",
      "8000/8000 [==============================] - 1s 116us/step - loss: 0.3449 - acc: 0.8600\n",
      "Epoch 95/200\n",
      "8000/8000 [==============================] - 1s 117us/step - loss: 0.3447 - acc: 0.8574\n",
      "Epoch 96/200\n",
      "8000/8000 [==============================] - 1s 116us/step - loss: 0.3448 - acc: 0.8598\n",
      "Epoch 97/200\n",
      "8000/8000 [==============================] - 1s 118us/step - loss: 0.3450 - acc: 0.8594\n",
      "Epoch 98/200\n",
      "8000/8000 [==============================] - 1s 119us/step - loss: 0.3443 - acc: 0.8564\n",
      "Epoch 99/200\n",
      "8000/8000 [==============================] - 1s 116us/step - loss: 0.3437 - acc: 0.8589\n",
      "Epoch 100/200\n",
      "8000/8000 [==============================] - 1s 117us/step - loss: 0.3441 - acc: 0.8606\n",
      "Epoch 101/200\n",
      "8000/8000 [==============================] - 1s 118us/step - loss: 0.3443 - acc: 0.8588\n",
      "Epoch 102/200\n",
      "8000/8000 [==============================] - 1s 113us/step - loss: 0.3432 - acc: 0.8601\n",
      "Epoch 103/200\n",
      "8000/8000 [==============================] - 1s 112us/step - loss: 0.3437 - acc: 0.8586\n",
      "Epoch 104/200\n",
      "8000/8000 [==============================] - 1s 111us/step - loss: 0.3439 - acc: 0.8603\n",
      "Epoch 105/200\n",
      "8000/8000 [==============================] - 1s 113us/step - loss: 0.3437 - acc: 0.8600\n",
      "Epoch 106/200\n",
      "8000/8000 [==============================] - 1s 117us/step - loss: 0.3439 - acc: 0.8601\n",
      "Epoch 107/200\n",
      "8000/8000 [==============================] - 1s 117us/step - loss: 0.3430 - acc: 0.8579\n",
      "Epoch 108/200\n",
      "8000/8000 [==============================] - 1s 120us/step - loss: 0.3441 - acc: 0.8583\n",
      "Epoch 109/200\n",
      "8000/8000 [==============================] - 1s 120us/step - loss: 0.3442 - acc: 0.8593\n",
      "Epoch 110/200\n",
      "8000/8000 [==============================] - 1s 115us/step - loss: 0.3428 - acc: 0.8615\n",
      "Epoch 111/200\n",
      "8000/8000 [==============================] - 1s 113us/step - loss: 0.3438 - acc: 0.8603\n",
      "Epoch 112/200\n",
      "8000/8000 [==============================] - 1s 113us/step - loss: 0.3430 - acc: 0.8603\n",
      "Epoch 113/200\n",
      "8000/8000 [==============================] - 1s 113us/step - loss: 0.3434 - acc: 0.8603\n",
      "Epoch 114/200\n",
      "8000/8000 [==============================] - 1s 117us/step - loss: 0.3439 - acc: 0.8585\n",
      "Epoch 115/200\n",
      "8000/8000 [==============================] - 1s 116us/step - loss: 0.3439 - acc: 0.8606\n",
      "Epoch 116/200\n",
      "8000/8000 [==============================] - 1s 119us/step - loss: 0.3435 - acc: 0.8595\n",
      "Epoch 117/200\n",
      "8000/8000 [==============================] - 1s 115us/step - loss: 0.3428 - acc: 0.8613\n",
      "Epoch 118/200\n",
      "8000/8000 [==============================] - 1s 115us/step - loss: 0.3436 - acc: 0.8598\n",
      "Epoch 119/200\n",
      "8000/8000 [==============================] - 1s 119us/step - loss: 0.3425 - acc: 0.8626\n",
      "Epoch 120/200\n",
      "8000/8000 [==============================] - 1s 119us/step - loss: 0.3432 - acc: 0.8581\n",
      "Epoch 121/200\n",
      "8000/8000 [==============================] - 1s 121us/step - loss: 0.3429 - acc: 0.8609\n",
      "Epoch 122/200\n",
      "8000/8000 [==============================] - 1s 115us/step - loss: 0.3442 - acc: 0.8608\n",
      "Epoch 123/200\n",
      "8000/8000 [==============================] - 1s 114us/step - loss: 0.3419 - acc: 0.8600\n",
      "Epoch 124/200\n",
      "8000/8000 [==============================] - 1s 120us/step - loss: 0.3427 - acc: 0.8605\n",
      "Epoch 125/200\n",
      "8000/8000 [==============================] - 1s 118us/step - loss: 0.3434 - acc: 0.8579\n",
      "Epoch 126/200\n",
      "8000/8000 [==============================] - 1s 119us/step - loss: 0.3425 - acc: 0.8593\n",
      "Epoch 127/200\n",
      "8000/8000 [==============================] - 1s 117us/step - loss: 0.3426 - acc: 0.8596\n",
      "Epoch 128/200\n",
      "8000/8000 [==============================] - 1s 113us/step - loss: 0.3435 - acc: 0.8593\n",
      "Epoch 129/200\n",
      "8000/8000 [==============================] - 1s 116us/step - loss: 0.3425 - acc: 0.8591\n",
      "Epoch 130/200\n",
      "8000/8000 [==============================] - 1s 115us/step - loss: 0.3429 - acc: 0.8566\n",
      "Epoch 131/200\n",
      "8000/8000 [==============================] - 1s 114us/step - loss: 0.3432 - acc: 0.8584\n",
      "Epoch 132/200\n",
      "8000/8000 [==============================] - 1s 114us/step - loss: 0.3423 - acc: 0.8599\n",
      "Epoch 133/200\n",
      "8000/8000 [==============================] - 1s 121us/step - loss: 0.3430 - acc: 0.8611\n",
      "Epoch 134/200\n",
      "8000/8000 [==============================] - 1s 120us/step - loss: 0.3428 - acc: 0.8604\n",
      "Epoch 135/200\n",
      "8000/8000 [==============================] - 1s 119us/step - loss: 0.3426 - acc: 0.8583\n",
      "Epoch 136/200\n",
      "8000/8000 [==============================] - 1s 119us/step - loss: 0.3425 - acc: 0.8586\n",
      "Epoch 137/200\n",
      "8000/8000 [==============================] - 1s 120us/step - loss: 0.3434 - acc: 0.8581\n",
      "Epoch 138/200\n",
      "8000/8000 [==============================] - 1s 120us/step - loss: 0.3427 - acc: 0.8614\n",
      "Epoch 139/200\n",
      "8000/8000 [==============================] - 1s 123us/step - loss: 0.3422 - acc: 0.8590\n",
      "Epoch 140/200\n",
      "8000/8000 [==============================] - 1s 119us/step - loss: 0.3424 - acc: 0.8599\n",
      "Epoch 141/200\n",
      "8000/8000 [==============================] - 1s 118us/step - loss: 0.3420 - acc: 0.8601\n",
      "Epoch 142/200\n",
      "8000/8000 [==============================] - 1s 120us/step - loss: 0.3423 - acc: 0.8616\n",
      "Epoch 143/200\n",
      "8000/8000 [==============================] - 1s 119us/step - loss: 0.3424 - acc: 0.8610\n",
      "Epoch 144/200\n",
      "8000/8000 [==============================] - 1s 121us/step - loss: 0.3423 - acc: 0.8606\n",
      "Epoch 145/200\n",
      "8000/8000 [==============================] - 1s 120us/step - loss: 0.3426 - acc: 0.8586\n",
      "Epoch 146/200\n",
      "8000/8000 [==============================] - 1s 120us/step - loss: 0.3427 - acc: 0.8601\n",
      "Epoch 147/200\n",
      "8000/8000 [==============================] - 1s 120us/step - loss: 0.3425 - acc: 0.8600\n",
      "Epoch 148/200\n",
      "8000/8000 [==============================] - 1s 116us/step - loss: 0.3423 - acc: 0.8603\n",
      "Epoch 149/200\n",
      "8000/8000 [==============================] - 1s 115us/step - loss: 0.3414 - acc: 0.8581\n",
      "Epoch 150/200\n",
      "8000/8000 [==============================] - 1s 119us/step - loss: 0.3423 - acc: 0.8593\n",
      "Epoch 151/200\n",
      "8000/8000 [==============================] - 1s 121us/step - loss: 0.3427 - acc: 0.8604\n",
      "Epoch 152/200\n",
      "8000/8000 [==============================] - 1s 115us/step - loss: 0.3423 - acc: 0.8570\n",
      "Epoch 153/200\n",
      "8000/8000 [==============================] - 1s 117us/step - loss: 0.3425 - acc: 0.8603\n",
      "Epoch 154/200\n",
      "8000/8000 [==============================] - 1s 121us/step - loss: 0.3422 - acc: 0.8595\n",
      "Epoch 155/200\n",
      "8000/8000 [==============================] - 1s 119us/step - loss: 0.3416 - acc: 0.8595\n",
      "Epoch 156/200\n",
      "8000/8000 [==============================] - 1s 121us/step - loss: 0.3425 - acc: 0.8584\n",
      "Epoch 157/200\n",
      "8000/8000 [==============================] - 1s 120us/step - loss: 0.3418 - acc: 0.8599\n",
      "Epoch 158/200\n",
      "8000/8000 [==============================] - 1s 119us/step - loss: 0.3420 - acc: 0.8600\n",
      "Epoch 159/200\n"
     ]
    },
    {
     "name": "stdout",
     "output_type": "stream",
     "text": [
      "8000/8000 [==============================] - 1s 112us/step - loss: 0.3421 - acc: 0.8583\n",
      "Epoch 160/200\n",
      "8000/8000 [==============================] - 1s 112us/step - loss: 0.3425 - acc: 0.8600\n",
      "Epoch 161/200\n",
      "8000/8000 [==============================] - 1s 113us/step - loss: 0.3426 - acc: 0.8576\n",
      "Epoch 162/200\n",
      "8000/8000 [==============================] - 1s 121us/step - loss: 0.3416 - acc: 0.8598\n",
      "Epoch 163/200\n",
      "8000/8000 [==============================] - 1s 118us/step - loss: 0.3419 - acc: 0.8606\n",
      "Epoch 164/200\n",
      "8000/8000 [==============================] - 1s 118us/step - loss: 0.3424 - acc: 0.8593\n",
      "Epoch 165/200\n",
      "8000/8000 [==============================] - 1s 118us/step - loss: 0.3420 - acc: 0.8610\n",
      "Epoch 166/200\n",
      "8000/8000 [==============================] - 1s 117us/step - loss: 0.3421 - acc: 0.8599\n",
      "Epoch 167/200\n",
      "8000/8000 [==============================] - 1s 118us/step - loss: 0.3419 - acc: 0.8586\n",
      "Epoch 168/200\n",
      "8000/8000 [==============================] - 1s 118us/step - loss: 0.3416 - acc: 0.8601\n",
      "Epoch 169/200\n",
      "8000/8000 [==============================] - 1s 113us/step - loss: 0.3426 - acc: 0.8584\n",
      "Epoch 170/200\n",
      "8000/8000 [==============================] - 1s 118us/step - loss: 0.3416 - acc: 0.8605\n",
      "Epoch 171/200\n",
      "8000/8000 [==============================] - 1s 118us/step - loss: 0.3417 - acc: 0.8589\n",
      "Epoch 172/200\n",
      "8000/8000 [==============================] - 1s 118us/step - loss: 0.3416 - acc: 0.8605\n",
      "Epoch 173/200\n",
      "8000/8000 [==============================] - 1s 116us/step - loss: 0.3412 - acc: 0.8610\n",
      "Epoch 174/200\n",
      "8000/8000 [==============================] - 1s 113us/step - loss: 0.3411 - acc: 0.8600\n",
      "Epoch 175/200\n",
      "8000/8000 [==============================] - 1s 113us/step - loss: 0.3424 - acc: 0.8580\n",
      "Epoch 176/200\n",
      "8000/8000 [==============================] - 1s 114us/step - loss: 0.3415 - acc: 0.8593\n",
      "Epoch 177/200\n",
      "8000/8000 [==============================] - 1s 120us/step - loss: 0.3417 - acc: 0.8609\n",
      "Epoch 178/200\n",
      "8000/8000 [==============================] - 1s 119us/step - loss: 0.3414 - acc: 0.8591\n",
      "Epoch 179/200\n",
      "8000/8000 [==============================] - 1s 118us/step - loss: 0.3417 - acc: 0.8589\n",
      "Epoch 180/200\n",
      "8000/8000 [==============================] - 1s 119us/step - loss: 0.3412 - acc: 0.8593\n",
      "Epoch 181/200\n",
      "8000/8000 [==============================] - 1s 121us/step - loss: 0.3424 - acc: 0.8599\n",
      "Epoch 182/200\n",
      "8000/8000 [==============================] - 1s 115us/step - loss: 0.3420 - acc: 0.8600\n",
      "Epoch 183/200\n",
      "8000/8000 [==============================] - 1s 113us/step - loss: 0.3422 - acc: 0.8600\n",
      "Epoch 184/200\n",
      "8000/8000 [==============================] - 1s 114us/step - loss: 0.3407 - acc: 0.8606\n",
      "Epoch 185/200\n",
      "8000/8000 [==============================] - 1s 113us/step - loss: 0.3413 - acc: 0.8589\n",
      "Epoch 186/200\n",
      "8000/8000 [==============================] - 1s 113us/step - loss: 0.3417 - acc: 0.8606\n",
      "Epoch 187/200\n",
      "8000/8000 [==============================] - 1s 113us/step - loss: 0.3410 - acc: 0.8600\n",
      "Epoch 188/200\n",
      "8000/8000 [==============================] - 1s 118us/step - loss: 0.3415 - acc: 0.8595\n",
      "Epoch 189/200\n",
      "8000/8000 [==============================] - 1s 122us/step - loss: 0.3411 - acc: 0.8594\n",
      "Epoch 190/200\n",
      "8000/8000 [==============================] - 1s 120us/step - loss: 0.3417 - acc: 0.8598\n",
      "Epoch 191/200\n",
      "8000/8000 [==============================] - 1s 119us/step - loss: 0.3413 - acc: 0.8601\n",
      "Epoch 192/200\n",
      "8000/8000 [==============================] - 1s 120us/step - loss: 0.3420 - acc: 0.8605\n",
      "Epoch 193/200\n",
      "8000/8000 [==============================] - 1s 119us/step - loss: 0.3420 - acc: 0.8610\n",
      "Epoch 194/200\n",
      "8000/8000 [==============================] - 1s 119us/step - loss: 0.3406 - acc: 0.8594\n",
      "Epoch 195/200\n",
      "8000/8000 [==============================] - 1s 118us/step - loss: 0.3417 - acc: 0.8610\n",
      "Epoch 196/200\n",
      "8000/8000 [==============================] - 1s 117us/step - loss: 0.3415 - acc: 0.8595\n",
      "Epoch 197/200\n",
      "8000/8000 [==============================] - 1s 120us/step - loss: 0.3411 - acc: 0.8606\n",
      "Epoch 198/200\n",
      "8000/8000 [==============================] - 1s 120us/step - loss: 0.3412 - acc: 0.8610\n",
      "Epoch 199/200\n",
      "8000/8000 [==============================] - 1s 120us/step - loss: 0.3413 - acc: 0.8598\n",
      "Epoch 200/200\n",
      "8000/8000 [==============================] - 1s 120us/step - loss: 0.3417 - acc: 0.8589\n"
     ]
    },
    {
     "data": {
      "text/plain": [
       "<keras.callbacks.History at 0x19af6769860>"
      ]
     },
     "execution_count": 84,
     "metadata": {},
     "output_type": "execute_result"
    }
   ],
   "source": [
    "classifier.fit(X_train, y_train, batch_size=5, epochs=200)"
   ]
  },
  {
   "cell_type": "markdown",
   "metadata": {},
   "source": [
    "# Yapay Sinir Ağını Test verisi ile Test Etmek"
   ]
  },
  {
   "cell_type": "code",
   "execution_count": 85,
   "metadata": {},
   "outputs": [],
   "source": [
    "y_pred = classifier.predict(X_test)"
   ]
  },
  {
   "cell_type": "code",
   "execution_count": 86,
   "metadata": {},
   "outputs": [
    {
     "data": {
      "text/plain": [
       "array([[0.35882223],\n",
       "       [0.90301347],\n",
       "       [0.29493663],\n",
       "       [0.03977633]], dtype=float32)"
      ]
     },
     "execution_count": 86,
     "metadata": {},
     "output_type": "execute_result"
    }
   ],
   "source": [
    "y_pred[:4]"
   ]
  },
  {
   "cell_type": "code",
   "execution_count": 87,
   "metadata": {},
   "outputs": [],
   "source": []
  },
  {
   "cell_type": "code",
   "execution_count": 88,
   "metadata": {},
   "outputs": [],
   "source": [
    "# y_pred için olasılık değerlerini görüyoruz. 0.5'ten büyük olanları 1 olarak kabul edelim.\n",
    "y_pred = [1 if i > 0.5 else 0 for i in y_pred]"
   ]
  },
  {
   "cell_type": "code",
   "execution_count": 89,
   "metadata": {},
   "outputs": [
    {
     "data": {
      "text/plain": [
       "[0, 1, 0, 0]"
      ]
     },
     "execution_count": 89,
     "metadata": {},
     "output_type": "execute_result"
    }
   ],
   "source": [
    "y_pred[:4]"
   ]
  },
  {
   "cell_type": "code",
   "execution_count": 90,
   "metadata": {},
   "outputs": [
    {
     "data": {
      "text/plain": [
       "array([[1577,   53],\n",
       "       [ 203,  167]], dtype=int64)"
      ]
     },
     "execution_count": 90,
     "metadata": {},
     "output_type": "execute_result"
    }
   ],
   "source": [
    "from sklearn.metrics import confusion_matrix\n",
    "cm = confusion_matrix(y_test, y_pred)\n",
    "cm"
   ]
  },
  {
   "cell_type": "code",
   "execution_count": 91,
   "metadata": {},
   "outputs": [],
   "source": [
    "from sklearn.metrics import accuracy_score"
   ]
  },
  {
   "cell_type": "code",
   "execution_count": 92,
   "metadata": {},
   "outputs": [
    {
     "data": {
      "text/plain": [
       "0.872"
      ]
     },
     "execution_count": 92,
     "metadata": {},
     "output_type": "execute_result"
    }
   ],
   "source": [
    "accuracy_score(y_pred=y_pred, y_true=y_test)"
   ]
  },
  {
   "cell_type": "code",
   "execution_count": null,
   "metadata": {},
   "outputs": [],
   "source": []
  },
  {
   "cell_type": "code",
   "execution_count": null,
   "metadata": {},
   "outputs": [],
   "source": []
  },
  {
   "cell_type": "code",
   "execution_count": null,
   "metadata": {},
   "outputs": [],
   "source": []
  },
  {
   "cell_type": "code",
   "execution_count": null,
   "metadata": {},
   "outputs": [],
   "source": []
  },
  {
   "cell_type": "code",
   "execution_count": null,
   "metadata": {},
   "outputs": [],
   "source": []
  }
 ],
 "metadata": {
  "kernelspec": {
   "display_name": "Python 3",
   "language": "python",
   "name": "python3"
  },
  "language_info": {
   "codemirror_mode": {
    "name": "ipython",
    "version": 3
   },
   "file_extension": ".py",
   "mimetype": "text/x-python",
   "name": "python",
   "nbconvert_exporter": "python",
   "pygments_lexer": "ipython3",
   "version": "3.6.5"
  }
 },
 "nbformat": 4,
 "nbformat_minor": 2
}
