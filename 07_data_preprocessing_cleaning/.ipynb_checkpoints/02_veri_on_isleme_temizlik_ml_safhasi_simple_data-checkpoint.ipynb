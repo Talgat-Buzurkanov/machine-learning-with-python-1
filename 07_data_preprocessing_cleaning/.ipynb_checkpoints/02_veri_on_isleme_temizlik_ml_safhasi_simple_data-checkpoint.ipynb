{
 "cells": [
  {
   "cell_type": "code",
   "execution_count": 1,
   "metadata": {},
   "outputs": [],
   "source": [
    "import pandas as pd"
   ]
  },
  {
   "cell_type": "code",
   "execution_count": 2,
   "metadata": {},
   "outputs": [
    {
     "data": {
      "text/html": [
       "<div>\n",
       "<style scoped>\n",
       "    .dataframe tbody tr th:only-of-type {\n",
       "        vertical-align: middle;\n",
       "    }\n",
       "\n",
       "    .dataframe tbody tr th {\n",
       "        vertical-align: top;\n",
       "    }\n",
       "\n",
       "    .dataframe thead th {\n",
       "        text-align: right;\n",
       "    }\n",
       "</style>\n",
       "<table border=\"1\" class=\"dataframe\">\n",
       "  <thead>\n",
       "    <tr style=\"text-align: right;\">\n",
       "      <th></th>\n",
       "      <th>sirano</th>\n",
       "      <th>isim</th>\n",
       "      <th>yas</th>\n",
       "      <th>meslek</th>\n",
       "      <th>sehir</th>\n",
       "      <th>aylik_gelir</th>\n",
       "      <th>yas2</th>\n",
       "      <th>aylik_gelir2</th>\n",
       "      <th>aylik_gelir3</th>\n",
       "    </tr>\n",
       "  </thead>\n",
       "  <tbody>\n",
       "    <tr>\n",
       "      <th>0</th>\n",
       "      <td>1</td>\n",
       "      <td>Cemal</td>\n",
       "      <td>35.0</td>\n",
       "      <td>Isci</td>\n",
       "      <td>Ankara</td>\n",
       "      <td>3500.0</td>\n",
       "      <td>35.000000</td>\n",
       "      <td>3500.0</td>\n",
       "      <td>3500.0</td>\n",
       "    </tr>\n",
       "    <tr>\n",
       "      <th>1</th>\n",
       "      <td>2</td>\n",
       "      <td>Ceyda</td>\n",
       "      <td>42.0</td>\n",
       "      <td>Memur</td>\n",
       "      <td>Kayseri</td>\n",
       "      <td>4200.0</td>\n",
       "      <td>42.000000</td>\n",
       "      <td>4200.0</td>\n",
       "      <td>4200.0</td>\n",
       "    </tr>\n",
       "    <tr>\n",
       "      <th>2</th>\n",
       "      <td>3</td>\n",
       "      <td>Timur</td>\n",
       "      <td>30.0</td>\n",
       "      <td>Müzisyen</td>\n",
       "      <td>Istanbul</td>\n",
       "      <td>9000.0</td>\n",
       "      <td>30.000000</td>\n",
       "      <td>9000.0</td>\n",
       "      <td>9000.0</td>\n",
       "    </tr>\n",
       "    <tr>\n",
       "      <th>3</th>\n",
       "      <td>4</td>\n",
       "      <td>Burcu</td>\n",
       "      <td>29.0</td>\n",
       "      <td>Pazarlamaci</td>\n",
       "      <td>Ankara</td>\n",
       "      <td>4200.0</td>\n",
       "      <td>29.000000</td>\n",
       "      <td>4200.0</td>\n",
       "      <td>4200.0</td>\n",
       "    </tr>\n",
       "    <tr>\n",
       "      <th>4</th>\n",
       "      <td>5</td>\n",
       "      <td>Yasemin</td>\n",
       "      <td>NaN</td>\n",
       "      <td>Pazarlamaci</td>\n",
       "      <td>Bursa</td>\n",
       "      <td>4800.0</td>\n",
       "      <td>37.941176</td>\n",
       "      <td>4800.0</td>\n",
       "      <td>4800.0</td>\n",
       "    </tr>\n",
       "  </tbody>\n",
       "</table>\n",
       "</div>"
      ],
      "text/plain": [
       "   sirano     isim   yas       meslek     sehir  aylik_gelir       yas2  \\\n",
       "0       1    Cemal  35.0         Isci    Ankara       3500.0  35.000000   \n",
       "1       2    Ceyda  42.0        Memur   Kayseri       4200.0  42.000000   \n",
       "2       3    Timur  30.0     Müzisyen  Istanbul       9000.0  30.000000   \n",
       "3       4    Burcu  29.0  Pazarlamaci    Ankara       4200.0  29.000000   \n",
       "4       5  Yasemin   NaN  Pazarlamaci     Bursa       4800.0  37.941176   \n",
       "\n",
       "   aylik_gelir2  aylik_gelir3  \n",
       "0        3500.0        3500.0  \n",
       "1        4200.0        4200.0  \n",
       "2        9000.0        9000.0  \n",
       "3        4200.0        4200.0  \n",
       "4        4800.0        4800.0  "
      ]
     },
     "execution_count": 2,
     "metadata": {},
     "output_type": "execute_result"
    }
   ],
   "source": [
    "df = pd.read_csv(\"D:/Datasets/preprocessing/simple_data_ilk_safha.csv\")\n",
    "df.head()"
   ]
  },
  {
   "cell_type": "markdown",
   "metadata": {},
   "source": [
    "#  Kategorik Niteliklerin İşlenmesi"
   ]
  },
  {
   "cell_type": "markdown",
   "metadata": {},
   "source": [
    "## Hedef Değişkenin LabelEncoder ile Kodlanması"
   ]
  },
  {
   "cell_type": "code",
   "execution_count": 3,
   "metadata": {},
   "outputs": [],
   "source": [
    "# Bu veri setinde hedef değişken olmadığından yapılamıyor."
   ]
  },
  {
   "cell_type": "markdown",
   "metadata": {},
   "source": [
    "## LabelEncoder"
   ]
  },
  {
   "cell_type": "code",
   "execution_count": 4,
   "metadata": {},
   "outputs": [],
   "source": [
    "from sklearn.preprocessing import LabelEncoder"
   ]
  },
  {
   "cell_type": "code",
   "execution_count": 5,
   "metadata": {},
   "outputs": [],
   "source": [
    "encoder_meslek = LabelEncoder()\n",
    "encoder_sehir = LabelEncoder()"
   ]
  },
  {
   "cell_type": "code",
   "execution_count": 6,
   "metadata": {},
   "outputs": [
    {
     "name": "stderr",
     "output_type": "stream",
     "text": [
      "c:\\python\\python36\\lib\\site-packages\\sklearn\\preprocessing\\label.py:235: DataConversionWarning: A column-vector y was passed when a 1d array was expected. Please change the shape of y to (n_samples, ), for example using ravel().\n",
      "  y = column_or_1d(y, warn=True)\n"
     ]
    }
   ],
   "source": [
    "df['meslek2'] = encoder_meslek.fit_transform(df['meslek'].values.reshape(-1,1))\n",
    "df['sehir2'] = encoder_sehir.fit_transform(df['sehir'].values.reshape(-1,1))"
   ]
  },
  {
   "cell_type": "code",
   "execution_count": 7,
   "metadata": {},
   "outputs": [
    {
     "data": {
      "text/html": [
       "<div>\n",
       "<style scoped>\n",
       "    .dataframe tbody tr th:only-of-type {\n",
       "        vertical-align: middle;\n",
       "    }\n",
       "\n",
       "    .dataframe tbody tr th {\n",
       "        vertical-align: top;\n",
       "    }\n",
       "\n",
       "    .dataframe thead th {\n",
       "        text-align: right;\n",
       "    }\n",
       "</style>\n",
       "<table border=\"1\" class=\"dataframe\">\n",
       "  <thead>\n",
       "    <tr style=\"text-align: right;\">\n",
       "      <th></th>\n",
       "      <th>sehir</th>\n",
       "      <th>sehir2</th>\n",
       "      <th>meslek</th>\n",
       "      <th>meslek2</th>\n",
       "    </tr>\n",
       "  </thead>\n",
       "  <tbody>\n",
       "    <tr>\n",
       "      <th>0</th>\n",
       "      <td>Ankara</td>\n",
       "      <td>0</td>\n",
       "      <td>Isci</td>\n",
       "      <td>2</td>\n",
       "    </tr>\n",
       "    <tr>\n",
       "      <th>1</th>\n",
       "      <td>Kayseri</td>\n",
       "      <td>3</td>\n",
       "      <td>Memur</td>\n",
       "      <td>3</td>\n",
       "    </tr>\n",
       "    <tr>\n",
       "      <th>2</th>\n",
       "      <td>Istanbul</td>\n",
       "      <td>2</td>\n",
       "      <td>Müzisyen</td>\n",
       "      <td>4</td>\n",
       "    </tr>\n",
       "    <tr>\n",
       "      <th>3</th>\n",
       "      <td>Ankara</td>\n",
       "      <td>0</td>\n",
       "      <td>Pazarlamaci</td>\n",
       "      <td>5</td>\n",
       "    </tr>\n",
       "    <tr>\n",
       "      <th>4</th>\n",
       "      <td>Bursa</td>\n",
       "      <td>1</td>\n",
       "      <td>Pazarlamaci</td>\n",
       "      <td>5</td>\n",
       "    </tr>\n",
       "  </tbody>\n",
       "</table>\n",
       "</div>"
      ],
      "text/plain": [
       "      sehir  sehir2       meslek  meslek2\n",
       "0    Ankara       0         Isci        2\n",
       "1   Kayseri       3        Memur        3\n",
       "2  Istanbul       2     Müzisyen        4\n",
       "3    Ankara       0  Pazarlamaci        5\n",
       "4     Bursa       1  Pazarlamaci        5"
      ]
     },
     "execution_count": 7,
     "metadata": {},
     "output_type": "execute_result"
    }
   ],
   "source": [
    "df[['sehir','sehir2','meslek','meslek2']].head()"
   ]
  },
  {
   "cell_type": "code",
   "execution_count": 8,
   "metadata": {},
   "outputs": [
    {
     "data": {
      "text/html": [
       "<div>\n",
       "<style scoped>\n",
       "    .dataframe tbody tr th:only-of-type {\n",
       "        vertical-align: middle;\n",
       "    }\n",
       "\n",
       "    .dataframe tbody tr th {\n",
       "        vertical-align: top;\n",
       "    }\n",
       "\n",
       "    .dataframe thead th {\n",
       "        text-align: right;\n",
       "    }\n",
       "</style>\n",
       "<table border=\"1\" class=\"dataframe\">\n",
       "  <thead>\n",
       "    <tr style=\"text-align: right;\">\n",
       "      <th></th>\n",
       "      <th>sirano</th>\n",
       "      <th>isim</th>\n",
       "      <th>yas</th>\n",
       "      <th>meslek</th>\n",
       "      <th>sehir</th>\n",
       "      <th>aylik_gelir</th>\n",
       "      <th>yas2</th>\n",
       "      <th>aylik_gelir2</th>\n",
       "      <th>aylik_gelir3</th>\n",
       "      <th>meslek2</th>\n",
       "      <th>sehir2</th>\n",
       "    </tr>\n",
       "  </thead>\n",
       "  <tbody>\n",
       "    <tr>\n",
       "      <th>0</th>\n",
       "      <td>1</td>\n",
       "      <td>Cemal</td>\n",
       "      <td>35.0</td>\n",
       "      <td>Isci</td>\n",
       "      <td>Ankara</td>\n",
       "      <td>3500.0</td>\n",
       "      <td>35.000000</td>\n",
       "      <td>3500.000</td>\n",
       "      <td>3500.0</td>\n",
       "      <td>2</td>\n",
       "      <td>0</td>\n",
       "    </tr>\n",
       "    <tr>\n",
       "      <th>1</th>\n",
       "      <td>2</td>\n",
       "      <td>Ceyda</td>\n",
       "      <td>42.0</td>\n",
       "      <td>Memur</td>\n",
       "      <td>Kayseri</td>\n",
       "      <td>4200.0</td>\n",
       "      <td>42.000000</td>\n",
       "      <td>4200.000</td>\n",
       "      <td>4200.0</td>\n",
       "      <td>3</td>\n",
       "      <td>3</td>\n",
       "    </tr>\n",
       "    <tr>\n",
       "      <th>2</th>\n",
       "      <td>3</td>\n",
       "      <td>Timur</td>\n",
       "      <td>30.0</td>\n",
       "      <td>Müzisyen</td>\n",
       "      <td>Istanbul</td>\n",
       "      <td>9000.0</td>\n",
       "      <td>30.000000</td>\n",
       "      <td>9000.000</td>\n",
       "      <td>9000.0</td>\n",
       "      <td>4</td>\n",
       "      <td>2</td>\n",
       "    </tr>\n",
       "    <tr>\n",
       "      <th>3</th>\n",
       "      <td>4</td>\n",
       "      <td>Burcu</td>\n",
       "      <td>29.0</td>\n",
       "      <td>Pazarlamaci</td>\n",
       "      <td>Ankara</td>\n",
       "      <td>4200.0</td>\n",
       "      <td>29.000000</td>\n",
       "      <td>4200.000</td>\n",
       "      <td>4200.0</td>\n",
       "      <td>5</td>\n",
       "      <td>0</td>\n",
       "    </tr>\n",
       "    <tr>\n",
       "      <th>4</th>\n",
       "      <td>5</td>\n",
       "      <td>Yasemin</td>\n",
       "      <td>NaN</td>\n",
       "      <td>Pazarlamaci</td>\n",
       "      <td>Bursa</td>\n",
       "      <td>4800.0</td>\n",
       "      <td>37.941176</td>\n",
       "      <td>4800.000</td>\n",
       "      <td>4800.0</td>\n",
       "      <td>5</td>\n",
       "      <td>1</td>\n",
       "    </tr>\n",
       "    <tr>\n",
       "      <th>5</th>\n",
       "      <td>6</td>\n",
       "      <td>Ali</td>\n",
       "      <td>33.0</td>\n",
       "      <td>Memur</td>\n",
       "      <td>Ankara</td>\n",
       "      <td>4250.0</td>\n",
       "      <td>33.000000</td>\n",
       "      <td>4250.000</td>\n",
       "      <td>4250.0</td>\n",
       "      <td>3</td>\n",
       "      <td>0</td>\n",
       "    </tr>\n",
       "    <tr>\n",
       "      <th>6</th>\n",
       "      <td>7</td>\n",
       "      <td>Dilek</td>\n",
       "      <td>29.0</td>\n",
       "      <td>Pazarlamaci</td>\n",
       "      <td>Istanbul</td>\n",
       "      <td>7300.0</td>\n",
       "      <td>29.000000</td>\n",
       "      <td>7300.000</td>\n",
       "      <td>7300.0</td>\n",
       "      <td>5</td>\n",
       "      <td>2</td>\n",
       "    </tr>\n",
       "    <tr>\n",
       "      <th>7</th>\n",
       "      <td>8</td>\n",
       "      <td>Murat</td>\n",
       "      <td>31.0</td>\n",
       "      <td>Müzisyen</td>\n",
       "      <td>Istanbul</td>\n",
       "      <td>12000.0</td>\n",
       "      <td>31.000000</td>\n",
       "      <td>12000.000</td>\n",
       "      <td>12000.0</td>\n",
       "      <td>4</td>\n",
       "      <td>2</td>\n",
       "    </tr>\n",
       "    <tr>\n",
       "      <th>8</th>\n",
       "      <td>9</td>\n",
       "      <td>Ahmet</td>\n",
       "      <td>33.0</td>\n",
       "      <td>Doktor</td>\n",
       "      <td>Ankara</td>\n",
       "      <td>18000.0</td>\n",
       "      <td>33.000000</td>\n",
       "      <td>18000.000</td>\n",
       "      <td>18000.0</td>\n",
       "      <td>1</td>\n",
       "      <td>0</td>\n",
       "    </tr>\n",
       "    <tr>\n",
       "      <th>9</th>\n",
       "      <td>10</td>\n",
       "      <td>Muhittin</td>\n",
       "      <td>46.0</td>\n",
       "      <td>Berber</td>\n",
       "      <td>Istanbul</td>\n",
       "      <td>NaN</td>\n",
       "      <td>46.000000</td>\n",
       "      <td>7534.375</td>\n",
       "      <td>8800.0</td>\n",
       "      <td>0</td>\n",
       "      <td>2</td>\n",
       "    </tr>\n",
       "    <tr>\n",
       "      <th>10</th>\n",
       "      <td>11</td>\n",
       "      <td>Hicaziye</td>\n",
       "      <td>47.0</td>\n",
       "      <td>Tuhafiyeci</td>\n",
       "      <td>Ankara</td>\n",
       "      <td>4800.0</td>\n",
       "      <td>47.000000</td>\n",
       "      <td>4800.000</td>\n",
       "      <td>4800.0</td>\n",
       "      <td>7</td>\n",
       "      <td>0</td>\n",
       "    </tr>\n",
       "    <tr>\n",
       "      <th>11</th>\n",
       "      <td>12</td>\n",
       "      <td>Harun</td>\n",
       "      <td>43.0</td>\n",
       "      <td>Tornacı</td>\n",
       "      <td>Ankara</td>\n",
       "      <td>4200.0</td>\n",
       "      <td>43.000000</td>\n",
       "      <td>4200.000</td>\n",
       "      <td>4200.0</td>\n",
       "      <td>6</td>\n",
       "      <td>0</td>\n",
       "    </tr>\n",
       "    <tr>\n",
       "      <th>12</th>\n",
       "      <td>13</td>\n",
       "      <td>Hakkı</td>\n",
       "      <td>NaN</td>\n",
       "      <td>Memur</td>\n",
       "      <td>Çorum</td>\n",
       "      <td>3750.0</td>\n",
       "      <td>37.941176</td>\n",
       "      <td>3750.000</td>\n",
       "      <td>3750.0</td>\n",
       "      <td>3</td>\n",
       "      <td>4</td>\n",
       "    </tr>\n",
       "    <tr>\n",
       "      <th>13</th>\n",
       "      <td>14</td>\n",
       "      <td>Gülizar</td>\n",
       "      <td>37.0</td>\n",
       "      <td>Doktor</td>\n",
       "      <td>İzmir</td>\n",
       "      <td>14250.0</td>\n",
       "      <td>37.000000</td>\n",
       "      <td>14250.000</td>\n",
       "      <td>14250.0</td>\n",
       "      <td>1</td>\n",
       "      <td>5</td>\n",
       "    </tr>\n",
       "    <tr>\n",
       "      <th>14</th>\n",
       "      <td>15</td>\n",
       "      <td>Şehmuz</td>\n",
       "      <td>41.0</td>\n",
       "      <td>Müzisyen</td>\n",
       "      <td>Ankara</td>\n",
       "      <td>8700.0</td>\n",
       "      <td>41.000000</td>\n",
       "      <td>8700.000</td>\n",
       "      <td>8700.0</td>\n",
       "      <td>4</td>\n",
       "      <td>0</td>\n",
       "    </tr>\n",
       "    <tr>\n",
       "      <th>15</th>\n",
       "      <td>16</td>\n",
       "      <td>Gençay</td>\n",
       "      <td>46.0</td>\n",
       "      <td>Berber</td>\n",
       "      <td>Ankara</td>\n",
       "      <td>8800.0</td>\n",
       "      <td>46.000000</td>\n",
       "      <td>8800.000</td>\n",
       "      <td>8800.0</td>\n",
       "      <td>0</td>\n",
       "      <td>0</td>\n",
       "    </tr>\n",
       "    <tr>\n",
       "      <th>16</th>\n",
       "      <td>16</td>\n",
       "      <td>Gençay</td>\n",
       "      <td>46.0</td>\n",
       "      <td>Berber</td>\n",
       "      <td>Ankara</td>\n",
       "      <td>8800.0</td>\n",
       "      <td>46.000000</td>\n",
       "      <td>8800.000</td>\n",
       "      <td>8800.0</td>\n",
       "      <td>0</td>\n",
       "      <td>0</td>\n",
       "    </tr>\n",
       "    <tr>\n",
       "      <th>17</th>\n",
       "      <td>17</td>\n",
       "      <td>Şenay</td>\n",
       "      <td>32.0</td>\n",
       "      <td>Pazarlamaci</td>\n",
       "      <td>İzmir</td>\n",
       "      <td>NaN</td>\n",
       "      <td>32.000000</td>\n",
       "      <td>7534.375</td>\n",
       "      <td>8800.0</td>\n",
       "      <td>5</td>\n",
       "      <td>5</td>\n",
       "    </tr>\n",
       "    <tr>\n",
       "      <th>18</th>\n",
       "      <td>18</td>\n",
       "      <td>Tümer</td>\n",
       "      <td>45.0</td>\n",
       "      <td>Müzisyen</td>\n",
       "      <td>Ankara</td>\n",
       "      <td>NaN</td>\n",
       "      <td>45.000000</td>\n",
       "      <td>7534.375</td>\n",
       "      <td>8800.0</td>\n",
       "      <td>4</td>\n",
       "      <td>0</td>\n",
       "    </tr>\n",
       "  </tbody>\n",
       "</table>\n",
       "</div>"
      ],
      "text/plain": [
       "    sirano      isim   yas       meslek     sehir  aylik_gelir       yas2  \\\n",
       "0        1     Cemal  35.0         Isci    Ankara       3500.0  35.000000   \n",
       "1        2     Ceyda  42.0        Memur   Kayseri       4200.0  42.000000   \n",
       "2        3     Timur  30.0     Müzisyen  Istanbul       9000.0  30.000000   \n",
       "3        4     Burcu  29.0  Pazarlamaci    Ankara       4200.0  29.000000   \n",
       "4        5   Yasemin   NaN  Pazarlamaci     Bursa       4800.0  37.941176   \n",
       "5        6       Ali  33.0        Memur    Ankara       4250.0  33.000000   \n",
       "6        7     Dilek  29.0  Pazarlamaci  Istanbul       7300.0  29.000000   \n",
       "7        8     Murat  31.0     Müzisyen  Istanbul      12000.0  31.000000   \n",
       "8        9     Ahmet  33.0       Doktor    Ankara      18000.0  33.000000   \n",
       "9       10  Muhittin  46.0       Berber  Istanbul          NaN  46.000000   \n",
       "10      11  Hicaziye  47.0   Tuhafiyeci    Ankara       4800.0  47.000000   \n",
       "11      12     Harun  43.0      Tornacı    Ankara       4200.0  43.000000   \n",
       "12      13     Hakkı   NaN        Memur     Çorum       3750.0  37.941176   \n",
       "13      14   Gülizar  37.0       Doktor     İzmir      14250.0  37.000000   \n",
       "14      15    Şehmuz  41.0     Müzisyen    Ankara       8700.0  41.000000   \n",
       "15      16    Gençay  46.0       Berber    Ankara       8800.0  46.000000   \n",
       "16      16    Gençay  46.0       Berber    Ankara       8800.0  46.000000   \n",
       "17      17     Şenay  32.0  Pazarlamaci     İzmir          NaN  32.000000   \n",
       "18      18     Tümer  45.0     Müzisyen    Ankara          NaN  45.000000   \n",
       "\n",
       "    aylik_gelir2  aylik_gelir3  meslek2  sehir2  \n",
       "0       3500.000        3500.0        2       0  \n",
       "1       4200.000        4200.0        3       3  \n",
       "2       9000.000        9000.0        4       2  \n",
       "3       4200.000        4200.0        5       0  \n",
       "4       4800.000        4800.0        5       1  \n",
       "5       4250.000        4250.0        3       0  \n",
       "6       7300.000        7300.0        5       2  \n",
       "7      12000.000       12000.0        4       2  \n",
       "8      18000.000       18000.0        1       0  \n",
       "9       7534.375        8800.0        0       2  \n",
       "10      4800.000        4800.0        7       0  \n",
       "11      4200.000        4200.0        6       0  \n",
       "12      3750.000        3750.0        3       4  \n",
       "13     14250.000       14250.0        1       5  \n",
       "14      8700.000        8700.0        4       0  \n",
       "15      8800.000        8800.0        0       0  \n",
       "16      8800.000        8800.0        0       0  \n",
       "17      7534.375        8800.0        5       5  \n",
       "18      7534.375        8800.0        4       0  "
      ]
     },
     "execution_count": 8,
     "metadata": {},
     "output_type": "execute_result"
    }
   ],
   "source": [
    "df.head(20)"
   ]
  },
  {
   "cell_type": "markdown",
   "metadata": {},
   "source": [
    "## Sütunları tekrar sıralayalım"
   ]
  },
  {
   "cell_type": "code",
   "execution_count": 9,
   "metadata": {},
   "outputs": [
    {
     "data": {
      "text/plain": [
       "Index(['sirano', 'isim', 'yas', 'meslek', 'sehir', 'aylik_gelir', 'yas2',\n",
       "       'aylik_gelir2', 'aylik_gelir3', 'meslek2', 'sehir2'],\n",
       "      dtype='object')"
      ]
     },
     "execution_count": 9,
     "metadata": {},
     "output_type": "execute_result"
    }
   ],
   "source": [
    "df.columns"
   ]
  },
  {
   "cell_type": "code",
   "execution_count": 10,
   "metadata": {},
   "outputs": [],
   "source": [
    "\n",
    "df = df[['yas2', 'aylik_gelir3', 'meslek2', 'sehir2',\n",
    "         'aylik_gelir2','sirano', 'isim', 'yas', 'meslek', 'sehir', 'aylik_gelir', ]]"
   ]
  },
  {
   "cell_type": "markdown",
   "metadata": {},
   "source": [
    "## OneHotEncoder"
   ]
  },
  {
   "cell_type": "code",
   "execution_count": 11,
   "metadata": {},
   "outputs": [],
   "source": [
    "# Artık pandas'dan numpy'a geçme zamanı geldi"
   ]
  },
  {
   "cell_type": "code",
   "execution_count": 12,
   "metadata": {},
   "outputs": [
    {
     "data": {
      "text/plain": [
       "(19, 4)"
      ]
     },
     "execution_count": 12,
     "metadata": {},
     "output_type": "execute_result"
    }
   ],
   "source": [
    "X = df.iloc[:,:4].values\n",
    "X.shape"
   ]
  },
  {
   "cell_type": "code",
   "execution_count": 13,
   "metadata": {},
   "outputs": [
    {
     "data": {
      "text/plain": [
       "array([[3.50000000e+01, 3.50000000e+03, 2.00000000e+00, 0.00000000e+00],\n",
       "       [4.20000000e+01, 4.20000000e+03, 3.00000000e+00, 3.00000000e+00],\n",
       "       [3.00000000e+01, 9.00000000e+03, 4.00000000e+00, 2.00000000e+00],\n",
       "       [2.90000000e+01, 4.20000000e+03, 5.00000000e+00, 0.00000000e+00],\n",
       "       [3.79411765e+01, 4.80000000e+03, 5.00000000e+00, 1.00000000e+00],\n",
       "       [3.30000000e+01, 4.25000000e+03, 3.00000000e+00, 0.00000000e+00],\n",
       "       [2.90000000e+01, 7.30000000e+03, 5.00000000e+00, 2.00000000e+00],\n",
       "       [3.10000000e+01, 1.20000000e+04, 4.00000000e+00, 2.00000000e+00],\n",
       "       [3.30000000e+01, 1.80000000e+04, 1.00000000e+00, 0.00000000e+00],\n",
       "       [4.60000000e+01, 8.80000000e+03, 0.00000000e+00, 2.00000000e+00]])"
      ]
     },
     "execution_count": 13,
     "metadata": {},
     "output_type": "execute_result"
    }
   ],
   "source": [
    "X[:10,:]"
   ]
  },
  {
   "cell_type": "code",
   "execution_count": 14,
   "metadata": {},
   "outputs": [],
   "source": [
    "# 0: yas2\n",
    "# 1: aylik_gelir3\n",
    "# 2: meslek2\n",
    "# 3: sehir2"
   ]
  },
  {
   "cell_type": "code",
   "execution_count": 15,
   "metadata": {},
   "outputs": [],
   "source": [
    "from sklearn.preprocessing import OneHotEncoder\n",
    "onehotencoder = OneHotEncoder(handle_unknown='ignore', categories='auto')"
   ]
  },
  {
   "cell_type": "code",
   "execution_count": 16,
   "metadata": {},
   "outputs": [],
   "source": [
    "# Birden sütunu ilgilendiren dönüşümleri kolay yapabilmek için kullanışlı bir sınıf (Estimator kökenli)\n",
    "# Biz burada sadece OneHotEncoder için kullanacağız.\n",
    "from sklearn.compose import ColumnTransformer"
   ]
  },
  {
   "cell_type": "code",
   "execution_count": 17,
   "metadata": {},
   "outputs": [],
   "source": [
    "# one_hot_encode_with_ct bizim kendi verdiğiiz isimdir. onehotencoder'ı yukarıda yarattık. [2,3] ise dönüşecek\n",
    "# niteliklerin indeks değerleridir.\n",
    "ct = ColumnTransformer(\n",
    "    [('one_hot_encode_with_ct', onehotencoder, [2,3]),], \n",
    "    remainder='passthrough'\n",
    ")"
   ]
  },
  {
   "cell_type": "code",
   "execution_count": 18,
   "metadata": {},
   "outputs": [],
   "source": [
    "# ColumnTransformer nesnesi ile onehotencoder nesnesini eğitip gerekli dönüşümleri gerçekleştirip X'e tekrar atayalım.\n",
    "# Burada X'in boyutu(shape) değişecektir.\n",
    "X = ct.fit_transform(X)"
   ]
  },
  {
   "cell_type": "code",
   "execution_count": 19,
   "metadata": {},
   "outputs": [
    {
     "data": {
      "text/plain": [
       "(19, 16)"
      ]
     },
     "execution_count": 19,
     "metadata": {},
     "output_type": "execute_result"
    }
   ],
   "source": [
    "X.shape"
   ]
  },
  {
   "cell_type": "code",
   "execution_count": 20,
   "metadata": {},
   "outputs": [
    {
     "data": {
      "text/plain": [
       "array([[0.0e+00, 0.0e+00, 1.0e+00, 0.0e+00, 0.0e+00, 0.0e+00, 0.0e+00,\n",
       "        0.0e+00, 1.0e+00, 0.0e+00, 0.0e+00, 0.0e+00, 0.0e+00, 0.0e+00,\n",
       "        3.5e+01, 3.5e+03],\n",
       "       [0.0e+00, 0.0e+00, 0.0e+00, 1.0e+00, 0.0e+00, 0.0e+00, 0.0e+00,\n",
       "        0.0e+00, 0.0e+00, 0.0e+00, 0.0e+00, 1.0e+00, 0.0e+00, 0.0e+00,\n",
       "        4.2e+01, 4.2e+03],\n",
       "       [0.0e+00, 0.0e+00, 0.0e+00, 0.0e+00, 1.0e+00, 0.0e+00, 0.0e+00,\n",
       "        0.0e+00, 0.0e+00, 0.0e+00, 1.0e+00, 0.0e+00, 0.0e+00, 0.0e+00,\n",
       "        3.0e+01, 9.0e+03]])"
      ]
     },
     "execution_count": 20,
     "metadata": {},
     "output_type": "execute_result"
    }
   ],
   "source": [
    "X.toarray()[:3]"
   ]
  },
  {
   "cell_type": "markdown",
   "metadata": {},
   "source": [
    "# Normalizasyon, Standardizasyon (StandartdScaler)"
   ]
  },
  {
   "cell_type": "code",
   "execution_count": 21,
   "metadata": {},
   "outputs": [],
   "source": [
    "from sklearn.preprocessing import StandardScaler"
   ]
  },
  {
   "cell_type": "code",
   "execution_count": 22,
   "metadata": {},
   "outputs": [],
   "source": [
    "scaler = StandardScaler()"
   ]
  },
  {
   "cell_type": "code",
   "execution_count": 23,
   "metadata": {},
   "outputs": [],
   "source": [
    "X = scaler.fit_transform(X.toarray())"
   ]
  },
  {
   "cell_type": "code",
   "execution_count": 24,
   "metadata": {},
   "outputs": [
    {
     "data": {
      "text/plain": [
       "array([[-0.4330127 , -0.34299717,  4.24264069, -0.4330127 , -0.51639778,\n",
       "        -0.51639778, -0.23570226, -0.23570226,  0.9486833 , -0.23570226,\n",
       "        -0.51639778, -0.23570226, -0.23570226, -0.34299717, -0.47034948,\n",
       "        -1.1128163 ],\n",
       "       [-0.4330127 , -0.34299717, -0.23570226,  2.30940108, -0.51639778,\n",
       "        -0.51639778, -0.23570226, -0.23570226, -1.05409255, -0.23570226,\n",
       "        -0.51639778,  4.24264069, -0.23570226, -0.34299717,  0.64908228,\n",
       "        -0.92884543],\n",
       "       [-0.4330127 , -0.34299717, -0.23570226, -0.4330127 ,  1.93649167,\n",
       "        -0.51639778, -0.23570226, -0.23570226, -1.05409255, -0.23570226,\n",
       "         1.93649167, -0.23570226, -0.23570226, -0.34299717, -1.2699436 ,\n",
       "         0.33266914],\n",
       "       [-0.4330127 , -0.34299717, -0.23570226, -0.4330127 , -0.51639778,\n",
       "         1.93649167, -0.23570226, -0.23570226,  0.9486833 , -0.23570226,\n",
       "        -0.51639778, -0.23570226, -0.23570226, -0.34299717, -1.42986242,\n",
       "        -0.92884543]])"
      ]
     },
     "execution_count": 24,
     "metadata": {},
     "output_type": "execute_result"
    }
   ],
   "source": [
    "X[:4,:]"
   ]
  },
  {
   "cell_type": "markdown",
   "metadata": {},
   "source": [
    "# Ödev-20"
   ]
  },
  {
   "cell_type": "code",
   "execution_count": 1,
   "metadata": {},
   "outputs": [],
   "source": [
    "# ../preprocessing/healthcare_insurance_to_preprocessed.csv \n",
    "# veri setini veri ön hazırlığını yapınız."
   ]
  },
  {
   "cell_type": "code",
   "execution_count": null,
   "metadata": {},
   "outputs": [],
   "source": []
  }
 ],
 "metadata": {
  "kernelspec": {
   "display_name": "Python 3",
   "language": "python",
   "name": "python3"
  },
  "language_info": {
   "codemirror_mode": {
    "name": "ipython",
    "version": 3
   },
   "file_extension": ".py",
   "mimetype": "text/x-python",
   "name": "python",
   "nbconvert_exporter": "python",
   "pygments_lexer": "ipython3",
   "version": "3.6.5"
  }
 },
 "nbformat": 4,
 "nbformat_minor": 2
}
